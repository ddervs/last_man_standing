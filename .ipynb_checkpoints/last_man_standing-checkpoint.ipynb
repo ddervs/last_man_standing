{
 "cells": [
  {
   "cell_type": "markdown",
   "metadata": {},
   "source": [
    "# Last Man Standing"
   ]
  },
  {
   "cell_type": "code",
   "execution_count": 187,
   "metadata": {
    "collapsed": true
   },
   "outputs": [],
   "source": [
    "%matplotlib inline\n",
    "%config InlineBackend.figure_format = 'retina'\n",
    "\n",
    "import footballdata as foo\n",
    "import matplotlib.pyplot as plt\n",
    "import numpy as np\n",
    "np.random.seed(1234)\n",
    "import pandas as pd\n",
    "\n",
    "from matplotlib.pyplot import figure, show\n",
    "import pprint as pp\n"
   ]
  },
  {
   "cell_type": "code",
   "execution_count": 2,
   "metadata": {},
   "outputs": [
    {
     "name": "stdout",
     "output_type": "stream",
     "text": [
      "Provides pandas.DataFrames from CSV files available at\n",
      "    http://www.football-data.co.uk/data.php\n",
      "\n",
      "    Column names are explained here: http://www.football-data.co.uk/notes.txt\n",
      "\n",
      "    Data will be downloaded as necessary and cached locally in ./data\n",
      "\n",
      "    Parameters\n",
      "    ----------\n",
      "    leagues : string or iterable of league-ids to include, None for all\n",
      "    seasons : string, int or list of seasons. Examples:\n",
      "              '16-17'; 2016; '2016-17'; [14, 15, 16]\n",
      "    \n"
     ]
    }
   ],
   "source": [
    "print(foo.MatchHistory.__doc__)"
   ]
  },
  {
   "cell_type": "code",
   "execution_count": 3,
   "metadata": {},
   "outputs": [
    {
     "data": {
      "text/plain": [
       "['BEL-Jupiler League',\n",
       " 'ENG-Championship',\n",
       " 'ENG-Conference',\n",
       " 'ENG-League 1',\n",
       " 'ENG-League 2',\n",
       " 'ENG-Premier League',\n",
       " 'ESP-La Liga',\n",
       " 'ESP-La Liga 2',\n",
       " 'FRA-Ligue 1',\n",
       " 'FRA-Ligue 2',\n",
       " 'GER-Bundesliga',\n",
       " 'GER-Bundesliga 2',\n",
       " 'GRE-Ethniki Katigoria',\n",
       " 'ITA-Serie A',\n",
       " 'ITA-Serie B',\n",
       " 'NED-Eredivisie',\n",
       " 'POR-Liga 1',\n",
       " 'SCO-Division 1',\n",
       " 'SCO-Division 2',\n",
       " 'SCO-Division 3',\n",
       " 'SCO-Premiership',\n",
       " 'TUR-Ligi 1']"
      ]
     },
     "execution_count": 3,
     "metadata": {},
     "output_type": "execute_result"
    }
   ],
   "source": [
    "foo.MatchHistory.available_leagues()"
   ]
  },
  {
   "cell_type": "code",
   "execution_count": 4,
   "metadata": {},
   "outputs": [
    {
     "data": {
      "text/html": [
       "<div>\n",
       "<style>\n",
       "    .dataframe thead tr:only-child th {\n",
       "        text-align: right;\n",
       "    }\n",
       "\n",
       "    .dataframe thead th {\n",
       "        text-align: left;\n",
       "    }\n",
       "\n",
       "    .dataframe tbody tr th {\n",
       "        vertical-align: top;\n",
       "    }\n",
       "</style>\n",
       "<table border=\"1\" class=\"dataframe\">\n",
       "  <thead>\n",
       "    <tr style=\"text-align: right;\">\n",
       "      <th></th>\n",
       "      <th></th>\n",
       "      <th></th>\n",
       "      <th>date</th>\n",
       "      <th>home_team</th>\n",
       "      <th>away_team</th>\n",
       "      <th>FTHG</th>\n",
       "      <th>FTAG</th>\n",
       "      <th>FTR</th>\n",
       "      <th>HTHG</th>\n",
       "      <th>HTAG</th>\n",
       "      <th>HTR</th>\n",
       "      <th>Referee</th>\n",
       "      <th>...</th>\n",
       "      <th>BbAv&lt;2.5</th>\n",
       "      <th>BbAH</th>\n",
       "      <th>BbAHh</th>\n",
       "      <th>BbMxAHH</th>\n",
       "      <th>BbAvAHH</th>\n",
       "      <th>BbMxAHA</th>\n",
       "      <th>BbAvAHA</th>\n",
       "      <th>PSCH</th>\n",
       "      <th>PSCD</th>\n",
       "      <th>PSCA</th>\n",
       "    </tr>\n",
       "    <tr>\n",
       "      <th>league</th>\n",
       "      <th>season</th>\n",
       "      <th>game_id</th>\n",
       "      <th></th>\n",
       "      <th></th>\n",
       "      <th></th>\n",
       "      <th></th>\n",
       "      <th></th>\n",
       "      <th></th>\n",
       "      <th></th>\n",
       "      <th></th>\n",
       "      <th></th>\n",
       "      <th></th>\n",
       "      <th></th>\n",
       "      <th></th>\n",
       "      <th></th>\n",
       "      <th></th>\n",
       "      <th></th>\n",
       "      <th></th>\n",
       "      <th></th>\n",
       "      <th></th>\n",
       "      <th></th>\n",
       "      <th></th>\n",
       "      <th></th>\n",
       "    </tr>\n",
       "  </thead>\n",
       "  <tbody>\n",
       "    <tr>\n",
       "      <th rowspan=\"5\" valign=\"top\">ENG-Premier League</th>\n",
       "      <th rowspan=\"5\" valign=\"top\">1617</th>\n",
       "      <th>2017-05-08 Chelsea-Middlesbrough</th>\n",
       "      <td>2017-05-08</td>\n",
       "      <td>Chelsea</td>\n",
       "      <td>Middlesbrough</td>\n",
       "      <td>3</td>\n",
       "      <td>0</td>\n",
       "      <td>H</td>\n",
       "      <td>2</td>\n",
       "      <td>0</td>\n",
       "      <td>H</td>\n",
       "      <td>C Pawson</td>\n",
       "      <td>...</td>\n",
       "      <td>2.59</td>\n",
       "      <td>20</td>\n",
       "      <td>-2.00</td>\n",
       "      <td>1.80</td>\n",
       "      <td>1.77</td>\n",
       "      <td>2.20</td>\n",
       "      <td>2.19</td>\n",
       "      <td>1.14</td>\n",
       "      <td>10.00</td>\n",
       "      <td>22.00</td>\n",
       "    </tr>\n",
       "    <tr>\n",
       "      <th>2017-05-21 Watford-Manchester City</th>\n",
       "      <td>2017-05-21</td>\n",
       "      <td>Watford</td>\n",
       "      <td>Manchester City</td>\n",
       "      <td>0</td>\n",
       "      <td>5</td>\n",
       "      <td>A</td>\n",
       "      <td>0</td>\n",
       "      <td>4</td>\n",
       "      <td>A</td>\n",
       "      <td>J Moss</td>\n",
       "      <td>...</td>\n",
       "      <td>2.80</td>\n",
       "      <td>18</td>\n",
       "      <td>1.75</td>\n",
       "      <td>1.99</td>\n",
       "      <td>1.94</td>\n",
       "      <td>2.00</td>\n",
       "      <td>1.93</td>\n",
       "      <td>18.00</td>\n",
       "      <td>9.70</td>\n",
       "      <td>1.16</td>\n",
       "    </tr>\n",
       "    <tr>\n",
       "      <th>2017-01-14 Swansea City-Arsenal</th>\n",
       "      <td>2017-01-14</td>\n",
       "      <td>Swansea City</td>\n",
       "      <td>Arsenal</td>\n",
       "      <td>0</td>\n",
       "      <td>4</td>\n",
       "      <td>A</td>\n",
       "      <td>0</td>\n",
       "      <td>1</td>\n",
       "      <td>A</td>\n",
       "      <td>M Jones</td>\n",
       "      <td>...</td>\n",
       "      <td>2.41</td>\n",
       "      <td>28</td>\n",
       "      <td>1.00</td>\n",
       "      <td>2.11</td>\n",
       "      <td>2.06</td>\n",
       "      <td>1.87</td>\n",
       "      <td>1.81</td>\n",
       "      <td>6.95</td>\n",
       "      <td>4.92</td>\n",
       "      <td>1.49</td>\n",
       "    </tr>\n",
       "    <tr>\n",
       "      <th>2016-10-22 West Ham United-Sunderland</th>\n",
       "      <td>2016-10-22</td>\n",
       "      <td>West Ham United</td>\n",
       "      <td>Sunderland</td>\n",
       "      <td>1</td>\n",
       "      <td>0</td>\n",
       "      <td>H</td>\n",
       "      <td>0</td>\n",
       "      <td>0</td>\n",
       "      <td>D</td>\n",
       "      <td>R Madley</td>\n",
       "      <td>...</td>\n",
       "      <td>2.01</td>\n",
       "      <td>33</td>\n",
       "      <td>-1.00</td>\n",
       "      <td>2.30</td>\n",
       "      <td>2.17</td>\n",
       "      <td>1.76</td>\n",
       "      <td>1.71</td>\n",
       "      <td>1.69</td>\n",
       "      <td>4.01</td>\n",
       "      <td>5.61</td>\n",
       "    </tr>\n",
       "    <tr>\n",
       "      <th>2017-04-15 Southampton-Manchester City</th>\n",
       "      <td>2017-04-15</td>\n",
       "      <td>Southampton</td>\n",
       "      <td>Manchester City</td>\n",
       "      <td>0</td>\n",
       "      <td>3</td>\n",
       "      <td>A</td>\n",
       "      <td>0</td>\n",
       "      <td>0</td>\n",
       "      <td>D</td>\n",
       "      <td>N Swarbrick</td>\n",
       "      <td>...</td>\n",
       "      <td>2.25</td>\n",
       "      <td>20</td>\n",
       "      <td>0.75</td>\n",
       "      <td>1.95</td>\n",
       "      <td>1.87</td>\n",
       "      <td>2.06</td>\n",
       "      <td>2.00</td>\n",
       "      <td>4.65</td>\n",
       "      <td>4.06</td>\n",
       "      <td>1.79</td>\n",
       "    </tr>\n",
       "  </tbody>\n",
       "</table>\n",
       "<p>5 rows × 64 columns</p>\n",
       "</div>"
      ],
      "text/plain": [
       "                                                                       date  \\\n",
       "league             season game_id                                             \n",
       "ENG-Premier League 1617   2017-05-08 Chelsea-Middlesbrough       2017-05-08   \n",
       "                          2017-05-21 Watford-Manchester City     2017-05-21   \n",
       "                          2017-01-14 Swansea City-Arsenal        2017-01-14   \n",
       "                          2016-10-22 West Ham United-Sunderland  2016-10-22   \n",
       "                          2017-04-15 Southampton-Manchester City 2017-04-15   \n",
       "\n",
       "                                                                        home_team  \\\n",
       "league             season game_id                                                   \n",
       "ENG-Premier League 1617   2017-05-08 Chelsea-Middlesbrough                Chelsea   \n",
       "                          2017-05-21 Watford-Manchester City              Watford   \n",
       "                          2017-01-14 Swansea City-Arsenal            Swansea City   \n",
       "                          2016-10-22 West Ham United-Sunderland   West Ham United   \n",
       "                          2017-04-15 Southampton-Manchester City      Southampton   \n",
       "\n",
       "                                                                        away_team  \\\n",
       "league             season game_id                                                   \n",
       "ENG-Premier League 1617   2017-05-08 Chelsea-Middlesbrough          Middlesbrough   \n",
       "                          2017-05-21 Watford-Manchester City      Manchester City   \n",
       "                          2017-01-14 Swansea City-Arsenal                 Arsenal   \n",
       "                          2016-10-22 West Ham United-Sunderland        Sunderland   \n",
       "                          2017-04-15 Southampton-Manchester City  Manchester City   \n",
       "\n",
       "                                                                  FTHG  FTAG  \\\n",
       "league             season game_id                                              \n",
       "ENG-Premier League 1617   2017-05-08 Chelsea-Middlesbrough           3     0   \n",
       "                          2017-05-21 Watford-Manchester City         0     5   \n",
       "                          2017-01-14 Swansea City-Arsenal            0     4   \n",
       "                          2016-10-22 West Ham United-Sunderland      1     0   \n",
       "                          2017-04-15 Southampton-Manchester City     0     3   \n",
       "\n",
       "                                                                 FTR  HTHG  \\\n",
       "league             season game_id                                            \n",
       "ENG-Premier League 1617   2017-05-08 Chelsea-Middlesbrough         H     2   \n",
       "                          2017-05-21 Watford-Manchester City       A     0   \n",
       "                          2017-01-14 Swansea City-Arsenal          A     0   \n",
       "                          2016-10-22 West Ham United-Sunderland    H     0   \n",
       "                          2017-04-15 Southampton-Manchester City   A     0   \n",
       "\n",
       "                                                                  HTAG HTR  \\\n",
       "league             season game_id                                            \n",
       "ENG-Premier League 1617   2017-05-08 Chelsea-Middlesbrough           0   H   \n",
       "                          2017-05-21 Watford-Manchester City         4   A   \n",
       "                          2017-01-14 Swansea City-Arsenal            1   A   \n",
       "                          2016-10-22 West Ham United-Sunderland      0   D   \n",
       "                          2017-04-15 Southampton-Manchester City     0   D   \n",
       "\n",
       "                                                                      Referee  \\\n",
       "league             season game_id                                               \n",
       "ENG-Premier League 1617   2017-05-08 Chelsea-Middlesbrough           C Pawson   \n",
       "                          2017-05-21 Watford-Manchester City           J Moss   \n",
       "                          2017-01-14 Swansea City-Arsenal             M Jones   \n",
       "                          2016-10-22 West Ham United-Sunderland      R Madley   \n",
       "                          2017-04-15 Southampton-Manchester City  N Swarbrick   \n",
       "\n",
       "                                                                  ...    \\\n",
       "league             season game_id                                 ...     \n",
       "ENG-Premier League 1617   2017-05-08 Chelsea-Middlesbrough        ...     \n",
       "                          2017-05-21 Watford-Manchester City      ...     \n",
       "                          2017-01-14 Swansea City-Arsenal         ...     \n",
       "                          2016-10-22 West Ham United-Sunderland   ...     \n",
       "                          2017-04-15 Southampton-Manchester City  ...     \n",
       "\n",
       "                                                                  BbAv<2.5  \\\n",
       "league             season game_id                                            \n",
       "ENG-Premier League 1617   2017-05-08 Chelsea-Middlesbrough            2.59   \n",
       "                          2017-05-21 Watford-Manchester City          2.80   \n",
       "                          2017-01-14 Swansea City-Arsenal             2.41   \n",
       "                          2016-10-22 West Ham United-Sunderland       2.01   \n",
       "                          2017-04-15 Southampton-Manchester City      2.25   \n",
       "\n",
       "                                                                  BbAH  BbAHh  \\\n",
       "league             season game_id                                               \n",
       "ENG-Premier League 1617   2017-05-08 Chelsea-Middlesbrough          20  -2.00   \n",
       "                          2017-05-21 Watford-Manchester City        18   1.75   \n",
       "                          2017-01-14 Swansea City-Arsenal           28   1.00   \n",
       "                          2016-10-22 West Ham United-Sunderland     33  -1.00   \n",
       "                          2017-04-15 Southampton-Manchester City    20   0.75   \n",
       "\n",
       "                                                                  BbMxAHH  \\\n",
       "league             season game_id                                           \n",
       "ENG-Premier League 1617   2017-05-08 Chelsea-Middlesbrough           1.80   \n",
       "                          2017-05-21 Watford-Manchester City         1.99   \n",
       "                          2017-01-14 Swansea City-Arsenal            2.11   \n",
       "                          2016-10-22 West Ham United-Sunderland      2.30   \n",
       "                          2017-04-15 Southampton-Manchester City     1.95   \n",
       "\n",
       "                                                                  BbAvAHH  \\\n",
       "league             season game_id                                           \n",
       "ENG-Premier League 1617   2017-05-08 Chelsea-Middlesbrough           1.77   \n",
       "                          2017-05-21 Watford-Manchester City         1.94   \n",
       "                          2017-01-14 Swansea City-Arsenal            2.06   \n",
       "                          2016-10-22 West Ham United-Sunderland      2.17   \n",
       "                          2017-04-15 Southampton-Manchester City     1.87   \n",
       "\n",
       "                                                                  BbMxAHA  \\\n",
       "league             season game_id                                           \n",
       "ENG-Premier League 1617   2017-05-08 Chelsea-Middlesbrough           2.20   \n",
       "                          2017-05-21 Watford-Manchester City         2.00   \n",
       "                          2017-01-14 Swansea City-Arsenal            1.87   \n",
       "                          2016-10-22 West Ham United-Sunderland      1.76   \n",
       "                          2017-04-15 Southampton-Manchester City     2.06   \n",
       "\n",
       "                                                                  BbAvAHA  \\\n",
       "league             season game_id                                           \n",
       "ENG-Premier League 1617   2017-05-08 Chelsea-Middlesbrough           2.19   \n",
       "                          2017-05-21 Watford-Manchester City         1.93   \n",
       "                          2017-01-14 Swansea City-Arsenal            1.81   \n",
       "                          2016-10-22 West Ham United-Sunderland      1.71   \n",
       "                          2017-04-15 Southampton-Manchester City     2.00   \n",
       "\n",
       "                                                                   PSCH  \\\n",
       "league             season game_id                                         \n",
       "ENG-Premier League 1617   2017-05-08 Chelsea-Middlesbrough         1.14   \n",
       "                          2017-05-21 Watford-Manchester City      18.00   \n",
       "                          2017-01-14 Swansea City-Arsenal          6.95   \n",
       "                          2016-10-22 West Ham United-Sunderland    1.69   \n",
       "                          2017-04-15 Southampton-Manchester City   4.65   \n",
       "\n",
       "                                                                   PSCD   PSCA  \n",
       "league             season game_id                                               \n",
       "ENG-Premier League 1617   2017-05-08 Chelsea-Middlesbrough        10.00  22.00  \n",
       "                          2017-05-21 Watford-Manchester City       9.70   1.16  \n",
       "                          2017-01-14 Swansea City-Arsenal          4.92   1.49  \n",
       "                          2016-10-22 West Ham United-Sunderland    4.01   5.61  \n",
       "                          2017-04-15 Southampton-Manchester City   4.06   1.79  \n",
       "\n",
       "[5 rows x 64 columns]"
      ]
     },
     "execution_count": 4,
     "metadata": {},
     "output_type": "execute_result"
    }
   ],
   "source": [
    "prem = foo.MatchHistory('ENG-Premier League', range(2016, 2017)).read_games()\n",
    "prem.sample(5)"
   ]
  },
  {
   "cell_type": "code",
   "execution_count": 5,
   "metadata": {},
   "outputs": [
    {
     "data": {
      "text/plain": [
       "['date',\n",
       " 'home_team',\n",
       " 'away_team',\n",
       " 'FTHG',\n",
       " 'FTAG',\n",
       " 'FTR',\n",
       " 'HTHG',\n",
       " 'HTAG',\n",
       " 'HTR',\n",
       " 'Referee',\n",
       " 'HS',\n",
       " 'AS',\n",
       " 'HST',\n",
       " 'AST',\n",
       " 'HF',\n",
       " 'AF',\n",
       " 'HC',\n",
       " 'AC',\n",
       " 'HY',\n",
       " 'AY',\n",
       " 'HR',\n",
       " 'AR',\n",
       " 'B365H',\n",
       " 'B365D',\n",
       " 'B365A',\n",
       " 'BWH',\n",
       " 'BWD',\n",
       " 'BWA',\n",
       " 'IWH',\n",
       " 'IWD',\n",
       " 'IWA',\n",
       " 'LBH',\n",
       " 'LBD',\n",
       " 'LBA',\n",
       " 'PSH',\n",
       " 'PSD',\n",
       " 'PSA',\n",
       " 'WHH',\n",
       " 'WHD',\n",
       " 'WHA',\n",
       " 'VCH',\n",
       " 'VCD',\n",
       " 'VCA',\n",
       " 'Bb1X2',\n",
       " 'BbMxH',\n",
       " 'BbAvH',\n",
       " 'BbMxD',\n",
       " 'BbAvD',\n",
       " 'BbMxA',\n",
       " 'BbAvA',\n",
       " 'BbOU',\n",
       " 'BbMx>2.5',\n",
       " 'BbAv>2.5',\n",
       " 'BbMx<2.5',\n",
       " 'BbAv<2.5',\n",
       " 'BbAH',\n",
       " 'BbAHh',\n",
       " 'BbMxAHH',\n",
       " 'BbAvAHH',\n",
       " 'BbMxAHA',\n",
       " 'BbAvAHA',\n",
       " 'PSCH',\n",
       " 'PSCD',\n",
       " 'PSCA']"
      ]
     },
     "execution_count": 5,
     "metadata": {},
     "output_type": "execute_result"
    }
   ],
   "source": [
    "list(prem) # columns of DataFrame"
   ]
  },
  {
   "cell_type": "markdown",
   "metadata": {},
   "source": [
    "#### TODO check correct formula and explain going from odds $\\rightarrow$ prob"
   ]
  },
  {
   "cell_type": "code",
   "execution_count": 6,
   "metadata": {
    "collapsed": true
   },
   "outputs": [],
   "source": [
    "# odds are typically given for home team\n",
    "def probs_from_odds(odds_win, odds_draw, odds_lose):\n",
    "    prob_win, prob_draw, prob_lose = \\\n",
    "        map(lambda odds: odds / (1 + odds) , [odds_win, odds_draw, odds_lose])\n",
    "    vig = prob_win + prob_draw + prob_lose - 1 # bookie's cut\n",
    "    prob_win_normed, prob_draw_normed, prob_lose_normed = \\\n",
    "        map(lambda prob: prob / (1 + vig) , [prob_win, prob_draw, prob_lose])\n",
    "    return prob_win_normed, prob_draw_normed, prob_lose_normed"
   ]
  },
  {
   "cell_type": "code",
   "execution_count": 7,
   "metadata": {},
   "outputs": [
    {
     "data": {
      "text/plain": [
       "(0.33787160082557843, 0.342940942173299, 0.31918745700112244)"
      ]
     },
     "execution_count": 7,
     "metadata": {},
     "output_type": "execute_result"
    }
   ],
   "source": [
    "probs_from_odds(3.10, 3.30, 2.50)"
   ]
  },
  {
   "cell_type": "code",
   "execution_count": 8,
   "metadata": {},
   "outputs": [
    {
     "data": {
      "text/plain": [
       "{'1617'}"
      ]
     },
     "execution_count": 8,
     "metadata": {},
     "output_type": "execute_result"
    }
   ],
   "source": [
    "# Check seasons\n",
    "prem_index = prem.index.get_values()\n",
    "set([idx[1] for idx in prem_index])"
   ]
  },
  {
   "cell_type": "code",
   "execution_count": 9,
   "metadata": {},
   "outputs": [
    {
     "name": "stdout",
     "output_type": "stream",
     "text": [
      "['Burnley', 'Crystal Palace', 'Everton', 'Hull City', 'Manchester City', 'Middlesbrough', 'Southampton', 'AFC Bournemouth', 'Arsenal', 'Chelsea', 'Manchester United', 'Leicester City', 'Stoke City', 'Swansea City', 'Tottenham Hotspur', 'Watford', 'West Bromwich Albion', 'Sunderland', 'West Ham United', 'Liverpool']\n"
     ]
    }
   ],
   "source": [
    "teams = list(prem.home_team.unique())\n",
    "num_teams = len(teams)\n",
    "print(teams)"
   ]
  },
  {
   "cell_type": "markdown",
   "metadata": {
    "collapsed": true
   },
   "source": [
    "## Winning probabilities matrix\n",
    "\n",
    "What we want now is the matrix $X\\in [0,1]^{38 \\times 20}$, with elements defined by\n",
    "\n",
    "$$X_{i,j} := p^{(i)}_j = \\text{probability that team }j\\text{ wins in week }i.$$"
   ]
  },
  {
   "cell_type": "markdown",
   "metadata": {},
   "source": [
    "#### TODO Refactor to take odds from different bookies, maybe in `prob_from_odds`"
   ]
  },
  {
   "cell_type": "code",
   "execution_count": 85,
   "metadata": {
    "collapsed": true,
    "scrolled": false
   },
   "outputs": [],
   "source": [
    "num_teams = len(teams)\n",
    "X = np.zeros( (2 * (num_teams - 1), num_teams))\n",
    "X_index = np.empty((2 * (num_teams - 1), num_teams), dtype=object)\n",
    "games_played_by_team = np.zeros(len(teams), dtype=int) # array keeps track of how many games each team has played\n",
    "\n",
    "for index, row in prem.iterrows():\n",
    "    j_home = teams.index(row[\"home_team\"])\n",
    "    j_away = teams.index(row[\"away_team\"])\n",
    "    i_home = games_played_by_team[j_home]\n",
    "    i_away = games_played_by_team[j_away]\n",
    "    home_prob, draw_prob, away_prob = probs_from_odds(row[\"B365H\"], row[\"B365D\"], row[\"B365A\"])\n",
    "    X[i_home, j_home] = home_prob\n",
    "    X[i_away, j_away] = away_prob\n",
    "    X_index[i_home, j_home] = index\n",
    "    X_index[i_away, j_away] = index\n",
    "    games_played_by_team[j_home] += 1\n",
    "    games_played_by_team[j_away] += 1\n",
    "    "
   ]
  },
  {
   "cell_type": "code",
   "execution_count": 86,
   "metadata": {},
   "outputs": [
    {
     "name": "stdout",
     "output_type": "stream",
     "text": [
      "(array([], dtype=int64), array([], dtype=int64))\n"
     ]
    }
   ],
   "source": [
    "print(np.where(X == 0))"
   ]
  },
  {
   "cell_type": "code",
   "execution_count": 87,
   "metadata": {},
   "outputs": [
    {
     "name": "stdout",
     "output_type": "stream",
     "text": [
      "0.354387283101\n",
      "('ENG-Premier League', '1617', '2017-02-11 Middlesbrough-Everton')\n",
      "0.354387283101 0.341707952758 0.303904764141\n"
     ]
    }
   ],
   "source": [
    "print(X[24,5])\n",
    "print(X_index[24,5])\n",
    "game = prem.loc[X_index[24,5]]\n",
    "home_prob, draw_prob, away_prob = probs_from_odds(game[\"B365H\"], game[\"B365D\"], game[\"B365A\"])\n",
    "print(home_prob, draw_prob, away_prob)"
   ]
  },
  {
   "cell_type": "markdown",
   "metadata": {},
   "source": [
    "## Greedy sampling"
   ]
  },
  {
   "cell_type": "code",
   "execution_count": 204,
   "metadata": {},
   "outputs": [],
   "source": [
    "def greedy_sample(X, teams):\n",
    "    \"\"\"\n",
    "        Given winning probability matrix X returns a \"greedy\" sample\n",
    "        permutation of teams - given as a list of integers.\n",
    "    \"\"\"\n",
    "    ## Check dims of X ok\n",
    "    num_weeks = X.shape[0]\n",
    "    num_teams = X.shape[1]\n",
    "    if (num_teams != len(teams)):\n",
    "        raise(ValueError(\"X needs to have %d rows, has %d.\" % (num_teams, X.shape[1])))\n",
    "    # generate samples\n",
    "    visited = []\n",
    "    for t in list(range(min(num_teams, num_weeks))):\n",
    "        allowed = [i for i in list(range(num_teams)) if i not in visited]\n",
    "        probs = X[t, allowed] / np.sum(X[t, allowed])\n",
    "        sample = np.random.choice(allowed, p=probs)\n",
    "        visited.append(sample)\n",
    "    return visited"
   ]
  },
  {
   "cell_type": "code",
   "execution_count": 205,
   "metadata": {},
   "outputs": [
    {
     "data": {
      "text/plain": [
       "[15, 12, 16, 9, 19, 2, 0, 11, 3, 18, 6, 4, 8, 17, 14, 5, 7, 1, 13, 10]"
      ]
     },
     "execution_count": 205,
     "metadata": {},
     "output_type": "execute_result"
    }
   ],
   "source": [
    "greedy_sample(X, teams)"
   ]
  },
  {
   "cell_type": "markdown",
   "metadata": {},
   "source": [
    "### Note: we want max of `log(win_prob)`"
   ]
  },
  {
   "cell_type": "code",
   "execution_count": 164,
   "metadata": {},
   "outputs": [],
   "source": [
    "def evaluate_perm(perm_list, X):\n",
    "    \"\"\"\n",
    "      Gives log of winning probability of a permutation\n",
    "    \"\"\"\n",
    "    winning_probs = X[np.arange(len(perm_list)), np.array(perm_list)]\n",
    "    return np.sum(np.log(winning_probs))"
   ]
  },
  {
   "cell_type": "code",
   "execution_count": 66,
   "metadata": {},
   "outputs": [],
   "source": [
    "def team_order_from_perm_list(perm_list, teams):\n",
    "    \"\"\"\n",
    "        takes a list of integers and returns corresponding list of teams\n",
    "    \"\"\"\n",
    "    ## check list 'full'\n",
    "    if( not (sorted(perm_list) == list(range(len(perm_list))))):\n",
    "        raise(ValueError(\"perm_list doesn't contain all integers from 0 to %d\" % (len(perm_list) -1 )))\n",
    "    team_choice = [teams[i] for i in perm_list]\n",
    "    return team_choice"
   ]
  },
  {
   "cell_type": "code",
   "execution_count": 165,
   "metadata": {},
   "outputs": [
    {
     "name": "stdout",
     "output_type": "stream",
     "text": [
      "-21.8015750552\n"
     ]
    }
   ],
   "source": [
    "print(evaluate_perm(b, X))"
   ]
  },
  {
   "cell_type": "markdown",
   "metadata": {},
   "source": [
    "### Baseline greedy strategy"
   ]
  },
  {
   "cell_type": "code",
   "execution_count": 200,
   "metadata": {
    "collapsed": true
   },
   "outputs": [],
   "source": [
    "def greedy_strategy(X, teams):\n",
    "    \"\"\"\n",
    "        Given winning probability matrix X returns the \"greedy\" strategy\n",
    "        permutation of teams - given as a list of integers.\n",
    "    \"\"\"\n",
    "    ## Check dims of X ok\n",
    "    num_weeks = X.shape[0]\n",
    "    num_teams = X.shape[1]\n",
    "    if (num_teams != len(teams)):\n",
    "        raise(ValueError(\"X needs to have %d rows, has %d.\" % (num_teams, X.shape[1])))\n",
    "    # generate sample\n",
    "    visited = []\n",
    "    for t in list(range(min(num_teams, num_weeks))):\n",
    "        allowed = [i for i in list(range(num_teams)) if i not in visited]\n",
    "        probs = X[t, allowed] / np.sum(X[t, allowed])\n",
    "        sample = allowed[np.argmax(probs)]\n",
    "        visited.append(sample)\n",
    "    return visited"
   ]
  },
  {
   "cell_type": "code",
   "execution_count": 201,
   "metadata": {},
   "outputs": [
    {
     "name": "stdout",
     "output_type": "stream",
     "text": [
      "{'opt_perm': [17, 1, 0, 6, 7, 3, 12, 13, 5, 16, 15, 18, 14, 2, 11, 8, 4, 9, 19,\n",
      "              10],\n",
      " 'opt_team_list': ['Liverpool', 'West Ham United', 'Sunderland',\n",
      "                   'West Bromwich Albion', 'Watford', 'Tottenham Hotspur',\n",
      "                   'Swansea City', 'Stoke City', 'Leicester City',\n",
      "                   'Manchester United', 'Chelsea', 'Arsenal', 'AFC Bournemouth',\n",
      "                   'Southampton', 'Middlesbrough', 'Manchester City',\n",
      "                   'Hull City', 'Everton', 'Crystal Palace', 'Burnley'],\n",
      " 'opt_value': -22.195522033487677}\n"
     ]
    }
   ],
   "source": [
    "greedy_strategy_result = {\"opt_perm\": greedy_strategy(X, teams), \\\n",
    "                          \"opt_value\": evaluate_perm(greedy_perm, X), \\\n",
    "                          \"opt_team_list\": team_order_from_perm_list(greedy_perm, teams)\\\n",
    "                         }\n",
    "pp.pprint(greedy_strategy_result, compact=True)"
   ]
  },
  {
   "cell_type": "markdown",
   "metadata": {},
   "source": [
    "### Take many greedy samples and save the best"
   ]
  },
  {
   "cell_type": "code",
   "execution_count": 207,
   "metadata": {},
   "outputs": [],
   "source": [
    "def greedy_sample_strategy(X, teams, num_iterations):\n",
    "    optimal_sampled_perm = []\n",
    "    optimal_value = -float(\"inf\")\n",
    "    optimal_t = 0\n",
    "    for t in range(num_iterations - 1):\n",
    "        if (t % 1000 == 0):\n",
    "            print(\"Run %d of %d. Current optimal value is %.4f observed at run %d.\" \\\n",
    "                  % (t, num_iterations, optimal_value, optimal_t))\n",
    "        sample = greedy_sample(X, teams)\n",
    "        value = evaluate_perm(sample, X)\n",
    "        if (value > optimal_value):\n",
    "            optimal_value = value\n",
    "            optimal_sampled_perm = sample\n",
    "            optimal_t = t\n",
    "    return optimal_sampled_perm, optimal_value"
   ]
  },
  {
   "cell_type": "code",
   "execution_count": 184,
   "metadata": {
    "collapsed": true
   },
   "outputs": [],
   "source": [
    "num_iterations = 1000000\n",
    "optimal_sampled_perm, optimal_value = greedy_sample_strategy(X, teams, num_iterations)\n",
    "greedy_sample_result = {\"opt_perm\": optimal_sampled_perm, \\\n",
    "                        \"opt_value\": optimal_value, \\\n",
    "                        \"opt_team_list\": team_order_from_perm_list(optimal_sampled_perm, teams)\\\n",
    "                       }"
   ]
  },
  {
   "cell_type": "code",
   "execution_count": 209,
   "metadata": {},
   "outputs": [
    {
     "name": "stdout",
     "output_type": "stream",
     "text": [
      "{'opt_perm': [15, 18, 19, 4, 7, 13, 0, 10, 6, 16, 2, 1, 14, 9, 5, 3, 8, 12, 17,\n",
      "              11],\n",
      " 'opt_team_list': ['Watford', 'West Ham United', 'Liverpool', 'Manchester City',\n",
      "                   'AFC Bournemouth', 'Swansea City', 'Burnley',\n",
      "                   'Manchester United', 'Southampton', 'West Bromwich Albion',\n",
      "                   'Everton', 'Crystal Palace', 'Tottenham Hotspur', 'Chelsea',\n",
      "                   'Middlesbrough', 'Hull City', 'Arsenal', 'Stoke City',\n",
      "                   'Sunderland', 'Leicester City'],\n",
      " 'opt_value': -20.226585488990679}\n"
     ]
    }
   ],
   "source": [
    "pp.pprint(greedy_sample_result, compact=True)"
   ]
  },
  {
   "cell_type": "markdown",
   "metadata": {},
   "source": [
    "## Permutation matrices"
   ]
  },
  {
   "cell_type": "code",
   "execution_count": 65,
   "metadata": {},
   "outputs": [],
   "source": [
    "from birkhoff import to_permutation_matrix as to_permutation_matrix\n",
    "def perm_matrix_from_list(perm_list):\n",
    "    \"\"\"\n",
    "        Takes an ordered list of integers and returns a permutation matrix.\n",
    "    \"\"\"\n",
    "    ## check list 'full'\n",
    "    n_range = list(range(len(perm_list)))\n",
    "    if( not (sorted(perm_list) == n_range)):\n",
    "        raise(ValueError(\"perm_list doesn't contain all integers from 0 to %d\" % (len(perm_list) -1 )))\n",
    "    perm_dict = dict(zip(n_range, perm_list))    \n",
    "    return to_permutation_matrix(perm_dict) "
   ]
  },
  {
   "cell_type": "code",
   "execution_count": 63,
   "metadata": {},
   "outputs": [
    {
     "data": {
      "text/plain": [
       "array([[ 0.,  0.,  1.,  0.,  0.],\n",
       "       [ 0.,  0.,  0.,  1.,  0.],\n",
       "       [ 0.,  1.,  0.,  0.,  0.],\n",
       "       [ 0.,  0.,  0.,  0.,  1.],\n",
       "       [ 1.,  0.,  0.,  0.,  0.]])"
      ]
     },
     "execution_count": 63,
     "metadata": {},
     "output_type": "execute_result"
    }
   ],
   "source": [
    "perm_matrix_from_list(a)"
   ]
  },
  {
   "cell_type": "code",
   "execution_count": 67,
   "metadata": {},
   "outputs": [
    {
     "data": {
      "text/plain": [
       "['Everton', 'Hull City', 'Crystal Palace', 'Manchester City', 'Burnley']"
      ]
     },
     "execution_count": 67,
     "metadata": {},
     "output_type": "execute_result"
    }
   ],
   "source": [
    "team_order_from_perm_list(a, teams)"
   ]
  },
  {
   "cell_type": "code",
   "execution_count": null,
   "metadata": {
    "collapsed": true
   },
   "outputs": [],
   "source": []
  }
 ],
 "metadata": {
  "kernelspec": {
   "display_name": "Python 3",
   "language": "python",
   "name": "python3"
  },
  "language_info": {
   "codemirror_mode": {
    "name": "ipython",
    "version": 3
   },
   "file_extension": ".py",
   "mimetype": "text/x-python",
   "name": "python",
   "nbconvert_exporter": "python",
   "pygments_lexer": "ipython3",
   "version": "3.5.4"
  }
 },
 "nbformat": 4,
 "nbformat_minor": 2
}
