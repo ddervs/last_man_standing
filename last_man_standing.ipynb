{
 "cells": [
  {
   "cell_type": "markdown",
   "metadata": {},
   "source": [
    "# Last Man Standing"
   ]
  },
  {
   "cell_type": "code",
   "execution_count": 72,
   "metadata": {
    "collapsed": true
   },
   "outputs": [],
   "source": [
    "%matplotlib inline\n",
    "%config InlineBackend.figure_format = 'retina'\n",
    "\n",
    "import footballdata as foo\n",
    "import matplotlib.pyplot as plt\n",
    "import numpy as np\n",
    "import pandas as pd\n",
    "import seaborn as sns\n",
    "\n",
    "from matplotlib.pyplot import figure, show\n",
    "\n",
    "\n",
    "sns.set_context(\"notebook\")\n",
    "sns.set_style(\"darkgrid\")"
   ]
  },
  {
   "cell_type": "code",
   "execution_count": 3,
   "metadata": {},
   "outputs": [
    {
     "name": "stdout",
     "output_type": "stream",
     "text": [
      "Provides pandas.DataFrames from CSV files available at\n",
      "    http://www.football-data.co.uk/data.php\n",
      "\n",
      "    Column names are explained here: http://www.football-data.co.uk/notes.txt\n",
      "\n",
      "    Data will be downloaded as necessary and cached locally in ./data\n",
      "\n",
      "    Parameters\n",
      "    ----------\n",
      "    leagues : string or iterable of league-ids to include, None for all\n",
      "    seasons : string, int or list of seasons. Examples:\n",
      "              '16-17'; 2016; '2016-17'; [14, 15, 16]\n",
      "    \n"
     ]
    }
   ],
   "source": [
    "print(foo.MatchHistory.__doc__)"
   ]
  },
  {
   "cell_type": "code",
   "execution_count": 4,
   "metadata": {},
   "outputs": [
    {
     "data": {
      "text/plain": [
       "['BEL-Jupiler League',\n",
       " 'ENG-Championship',\n",
       " 'ENG-Conference',\n",
       " 'ENG-League 1',\n",
       " 'ENG-League 2',\n",
       " 'ENG-Premier League',\n",
       " 'ESP-La Liga',\n",
       " 'ESP-La Liga 2',\n",
       " 'FRA-Ligue 1',\n",
       " 'FRA-Ligue 2',\n",
       " 'GER-Bundesliga',\n",
       " 'GER-Bundesliga 2',\n",
       " 'GRE-Ethniki Katigoria',\n",
       " 'ITA-Serie A',\n",
       " 'ITA-Serie B',\n",
       " 'NED-Eredivisie',\n",
       " 'POR-Liga 1',\n",
       " 'SCO-Division 1',\n",
       " 'SCO-Division 2',\n",
       " 'SCO-Division 3',\n",
       " 'SCO-Premiership',\n",
       " 'TUR-Ligi 1']"
      ]
     },
     "execution_count": 4,
     "metadata": {},
     "output_type": "execute_result"
    }
   ],
   "source": [
    "foo.MatchHistory.available_leagues()"
   ]
  },
  {
   "cell_type": "code",
   "execution_count": 189,
   "metadata": {},
   "outputs": [
    {
     "data": {
      "text/html": [
       "<div>\n",
       "<style>\n",
       "    .dataframe thead tr:only-child th {\n",
       "        text-align: right;\n",
       "    }\n",
       "\n",
       "    .dataframe thead th {\n",
       "        text-align: left;\n",
       "    }\n",
       "\n",
       "    .dataframe tbody tr th {\n",
       "        vertical-align: top;\n",
       "    }\n",
       "</style>\n",
       "<table border=\"1\" class=\"dataframe\">\n",
       "  <thead>\n",
       "    <tr style=\"text-align: right;\">\n",
       "      <th></th>\n",
       "      <th></th>\n",
       "      <th></th>\n",
       "      <th>date</th>\n",
       "      <th>home_team</th>\n",
       "      <th>away_team</th>\n",
       "      <th>FTHG</th>\n",
       "      <th>FTAG</th>\n",
       "      <th>FTR</th>\n",
       "      <th>HTHG</th>\n",
       "      <th>HTAG</th>\n",
       "      <th>HTR</th>\n",
       "      <th>Referee</th>\n",
       "      <th>...</th>\n",
       "      <th>BbAv&lt;2.5</th>\n",
       "      <th>BbAH</th>\n",
       "      <th>BbAHh</th>\n",
       "      <th>BbMxAHH</th>\n",
       "      <th>BbAvAHH</th>\n",
       "      <th>BbMxAHA</th>\n",
       "      <th>BbAvAHA</th>\n",
       "      <th>PSCH</th>\n",
       "      <th>PSCD</th>\n",
       "      <th>PSCA</th>\n",
       "    </tr>\n",
       "    <tr>\n",
       "      <th>league</th>\n",
       "      <th>season</th>\n",
       "      <th>game_id</th>\n",
       "      <th></th>\n",
       "      <th></th>\n",
       "      <th></th>\n",
       "      <th></th>\n",
       "      <th></th>\n",
       "      <th></th>\n",
       "      <th></th>\n",
       "      <th></th>\n",
       "      <th></th>\n",
       "      <th></th>\n",
       "      <th></th>\n",
       "      <th></th>\n",
       "      <th></th>\n",
       "      <th></th>\n",
       "      <th></th>\n",
       "      <th></th>\n",
       "      <th></th>\n",
       "      <th></th>\n",
       "      <th></th>\n",
       "      <th></th>\n",
       "      <th></th>\n",
       "    </tr>\n",
       "  </thead>\n",
       "  <tbody>\n",
       "    <tr>\n",
       "      <th rowspan=\"5\" valign=\"top\">ENG-Premier League</th>\n",
       "      <th rowspan=\"5\" valign=\"top\">1617</th>\n",
       "      <th>2017-04-16 West Bromwich Albion-Liverpool</th>\n",
       "      <td>2017-04-16</td>\n",
       "      <td>West Bromwich Albion</td>\n",
       "      <td>Liverpool</td>\n",
       "      <td>0</td>\n",
       "      <td>1</td>\n",
       "      <td>A</td>\n",
       "      <td>0</td>\n",
       "      <td>1</td>\n",
       "      <td>A</td>\n",
       "      <td>J Moss</td>\n",
       "      <td>...</td>\n",
       "      <td>1.89</td>\n",
       "      <td>20</td>\n",
       "      <td>0.5</td>\n",
       "      <td>2.05</td>\n",
       "      <td>2.00</td>\n",
       "      <td>1.93</td>\n",
       "      <td>1.87</td>\n",
       "      <td>4.58</td>\n",
       "      <td>3.71</td>\n",
       "      <td>1.88</td>\n",
       "    </tr>\n",
       "    <tr>\n",
       "      <th>2016-10-22 Burnley-Everton</th>\n",
       "      <td>2016-10-22</td>\n",
       "      <td>Burnley</td>\n",
       "      <td>Everton</td>\n",
       "      <td>2</td>\n",
       "      <td>1</td>\n",
       "      <td>H</td>\n",
       "      <td>1</td>\n",
       "      <td>0</td>\n",
       "      <td>H</td>\n",
       "      <td>M Jones</td>\n",
       "      <td>...</td>\n",
       "      <td>1.74</td>\n",
       "      <td>33</td>\n",
       "      <td>1.0</td>\n",
       "      <td>1.77</td>\n",
       "      <td>1.71</td>\n",
       "      <td>2.30</td>\n",
       "      <td>2.17</td>\n",
       "      <td>5.90</td>\n",
       "      <td>3.73</td>\n",
       "      <td>1.71</td>\n",
       "    </tr>\n",
       "    <tr>\n",
       "      <th>2017-01-31 Sunderland-Tottenham Hotspur</th>\n",
       "      <td>2017-01-31</td>\n",
       "      <td>Sunderland</td>\n",
       "      <td>Tottenham Hotspur</td>\n",
       "      <td>0</td>\n",
       "      <td>0</td>\n",
       "      <td>D</td>\n",
       "      <td>0</td>\n",
       "      <td>0</td>\n",
       "      <td>D</td>\n",
       "      <td>L Mason</td>\n",
       "      <td>...</td>\n",
       "      <td>2.36</td>\n",
       "      <td>28</td>\n",
       "      <td>1.5</td>\n",
       "      <td>1.93</td>\n",
       "      <td>1.88</td>\n",
       "      <td>2.02</td>\n",
       "      <td>1.97</td>\n",
       "      <td>8.75</td>\n",
       "      <td>5.71</td>\n",
       "      <td>1.37</td>\n",
       "    </tr>\n",
       "    <tr>\n",
       "      <th>2016-08-28 Manchester City-West Ham United</th>\n",
       "      <td>2016-08-28</td>\n",
       "      <td>Manchester City</td>\n",
       "      <td>West Ham United</td>\n",
       "      <td>3</td>\n",
       "      <td>1</td>\n",
       "      <td>H</td>\n",
       "      <td>2</td>\n",
       "      <td>0</td>\n",
       "      <td>H</td>\n",
       "      <td>A Marriner</td>\n",
       "      <td>...</td>\n",
       "      <td>2.57</td>\n",
       "      <td>31</td>\n",
       "      <td>-1.5</td>\n",
       "      <td>1.85</td>\n",
       "      <td>1.77</td>\n",
       "      <td>2.20</td>\n",
       "      <td>2.08</td>\n",
       "      <td>1.26</td>\n",
       "      <td>6.50</td>\n",
       "      <td>13.25</td>\n",
       "    </tr>\n",
       "    <tr>\n",
       "      <th>2017-05-17 Southampton-Manchester United</th>\n",
       "      <td>2017-05-17</td>\n",
       "      <td>Southampton</td>\n",
       "      <td>Manchester United</td>\n",
       "      <td>0</td>\n",
       "      <td>0</td>\n",
       "      <td>D</td>\n",
       "      <td>0</td>\n",
       "      <td>0</td>\n",
       "      <td>D</td>\n",
       "      <td>M Dean</td>\n",
       "      <td>...</td>\n",
       "      <td>1.76</td>\n",
       "      <td>20</td>\n",
       "      <td>0.0</td>\n",
       "      <td>1.96</td>\n",
       "      <td>1.91</td>\n",
       "      <td>1.99</td>\n",
       "      <td>1.95</td>\n",
       "      <td>2.37</td>\n",
       "      <td>3.32</td>\n",
       "      <td>3.26</td>\n",
       "    </tr>\n",
       "  </tbody>\n",
       "</table>\n",
       "<p>5 rows × 64 columns</p>\n",
       "</div>"
      ],
      "text/plain": [
       "                                                                           date  \\\n",
       "league             season game_id                                                 \n",
       "ENG-Premier League 1617   2017-04-16 West Bromwich Albion-Liverpool  2017-04-16   \n",
       "                          2016-10-22 Burnley-Everton                 2016-10-22   \n",
       "                          2017-01-31 Sunderland-Tottenham Hotspur    2017-01-31   \n",
       "                          2016-08-28 Manchester City-West Ham United 2016-08-28   \n",
       "                          2017-05-17 Southampton-Manchester United   2017-05-17   \n",
       "\n",
       "                                                                                 home_team  \\\n",
       "league             season game_id                                                            \n",
       "ENG-Premier League 1617   2017-04-16 West Bromwich Albion-Liverpool   West Bromwich Albion   \n",
       "                          2016-10-22 Burnley-Everton                               Burnley   \n",
       "                          2017-01-31 Sunderland-Tottenham Hotspur               Sunderland   \n",
       "                          2016-08-28 Manchester City-West Ham United       Manchester City   \n",
       "                          2017-05-17 Southampton-Manchester United             Southampton   \n",
       "\n",
       "                                                                              away_team  \\\n",
       "league             season game_id                                                         \n",
       "ENG-Premier League 1617   2017-04-16 West Bromwich Albion-Liverpool           Liverpool   \n",
       "                          2016-10-22 Burnley-Everton                            Everton   \n",
       "                          2017-01-31 Sunderland-Tottenham Hotspur     Tottenham Hotspur   \n",
       "                          2016-08-28 Manchester City-West Ham United    West Ham United   \n",
       "                          2017-05-17 Southampton-Manchester United    Manchester United   \n",
       "\n",
       "                                                                      FTHG  \\\n",
       "league             season game_id                                            \n",
       "ENG-Premier League 1617   2017-04-16 West Bromwich Albion-Liverpool      0   \n",
       "                          2016-10-22 Burnley-Everton                     2   \n",
       "                          2017-01-31 Sunderland-Tottenham Hotspur        0   \n",
       "                          2016-08-28 Manchester City-West Ham United     3   \n",
       "                          2017-05-17 Southampton-Manchester United       0   \n",
       "\n",
       "                                                                      FTAG  \\\n",
       "league             season game_id                                            \n",
       "ENG-Premier League 1617   2017-04-16 West Bromwich Albion-Liverpool      1   \n",
       "                          2016-10-22 Burnley-Everton                     1   \n",
       "                          2017-01-31 Sunderland-Tottenham Hotspur        0   \n",
       "                          2016-08-28 Manchester City-West Ham United     1   \n",
       "                          2017-05-17 Southampton-Manchester United       0   \n",
       "\n",
       "                                                                     FTR  \\\n",
       "league             season game_id                                          \n",
       "ENG-Premier League 1617   2017-04-16 West Bromwich Albion-Liverpool    A   \n",
       "                          2016-10-22 Burnley-Everton                   H   \n",
       "                          2017-01-31 Sunderland-Tottenham Hotspur      D   \n",
       "                          2016-08-28 Manchester City-West Ham United   H   \n",
       "                          2017-05-17 Southampton-Manchester United     D   \n",
       "\n",
       "                                                                      HTHG  \\\n",
       "league             season game_id                                            \n",
       "ENG-Premier League 1617   2017-04-16 West Bromwich Albion-Liverpool      0   \n",
       "                          2016-10-22 Burnley-Everton                     1   \n",
       "                          2017-01-31 Sunderland-Tottenham Hotspur        0   \n",
       "                          2016-08-28 Manchester City-West Ham United     2   \n",
       "                          2017-05-17 Southampton-Manchester United       0   \n",
       "\n",
       "                                                                      HTAG  \\\n",
       "league             season game_id                                            \n",
       "ENG-Premier League 1617   2017-04-16 West Bromwich Albion-Liverpool      1   \n",
       "                          2016-10-22 Burnley-Everton                     0   \n",
       "                          2017-01-31 Sunderland-Tottenham Hotspur        0   \n",
       "                          2016-08-28 Manchester City-West Ham United     0   \n",
       "                          2017-05-17 Southampton-Manchester United       0   \n",
       "\n",
       "                                                                     HTR  \\\n",
       "league             season game_id                                          \n",
       "ENG-Premier League 1617   2017-04-16 West Bromwich Albion-Liverpool    A   \n",
       "                          2016-10-22 Burnley-Everton                   H   \n",
       "                          2017-01-31 Sunderland-Tottenham Hotspur      D   \n",
       "                          2016-08-28 Manchester City-West Ham United   H   \n",
       "                          2017-05-17 Southampton-Manchester United     D   \n",
       "\n",
       "                                                                         Referee  \\\n",
       "league             season game_id                                                  \n",
       "ENG-Premier League 1617   2017-04-16 West Bromwich Albion-Liverpool       J Moss   \n",
       "                          2016-10-22 Burnley-Everton                     M Jones   \n",
       "                          2017-01-31 Sunderland-Tottenham Hotspur        L Mason   \n",
       "                          2016-08-28 Manchester City-West Ham United  A Marriner   \n",
       "                          2017-05-17 Southampton-Manchester United        M Dean   \n",
       "\n",
       "                                                                      ...    \\\n",
       "league             season game_id                                     ...     \n",
       "ENG-Premier League 1617   2017-04-16 West Bromwich Albion-Liverpool   ...     \n",
       "                          2016-10-22 Burnley-Everton                  ...     \n",
       "                          2017-01-31 Sunderland-Tottenham Hotspur     ...     \n",
       "                          2016-08-28 Manchester City-West Ham United  ...     \n",
       "                          2017-05-17 Southampton-Manchester United    ...     \n",
       "\n",
       "                                                                      BbAv<2.5  \\\n",
       "league             season game_id                                                \n",
       "ENG-Premier League 1617   2017-04-16 West Bromwich Albion-Liverpool       1.89   \n",
       "                          2016-10-22 Burnley-Everton                      1.74   \n",
       "                          2017-01-31 Sunderland-Tottenham Hotspur         2.36   \n",
       "                          2016-08-28 Manchester City-West Ham United      2.57   \n",
       "                          2017-05-17 Southampton-Manchester United        1.76   \n",
       "\n",
       "                                                                      BbAH  \\\n",
       "league             season game_id                                            \n",
       "ENG-Premier League 1617   2017-04-16 West Bromwich Albion-Liverpool     20   \n",
       "                          2016-10-22 Burnley-Everton                    33   \n",
       "                          2017-01-31 Sunderland-Tottenham Hotspur       28   \n",
       "                          2016-08-28 Manchester City-West Ham United    31   \n",
       "                          2017-05-17 Southampton-Manchester United      20   \n",
       "\n",
       "                                                                      BbAHh  \\\n",
       "league             season game_id                                             \n",
       "ENG-Premier League 1617   2017-04-16 West Bromwich Albion-Liverpool     0.5   \n",
       "                          2016-10-22 Burnley-Everton                    1.0   \n",
       "                          2017-01-31 Sunderland-Tottenham Hotspur       1.5   \n",
       "                          2016-08-28 Manchester City-West Ham United   -1.5   \n",
       "                          2017-05-17 Southampton-Manchester United      0.0   \n",
       "\n",
       "                                                                      BbMxAHH  \\\n",
       "league             season game_id                                               \n",
       "ENG-Premier League 1617   2017-04-16 West Bromwich Albion-Liverpool      2.05   \n",
       "                          2016-10-22 Burnley-Everton                     1.77   \n",
       "                          2017-01-31 Sunderland-Tottenham Hotspur        1.93   \n",
       "                          2016-08-28 Manchester City-West Ham United     1.85   \n",
       "                          2017-05-17 Southampton-Manchester United       1.96   \n",
       "\n",
       "                                                                      BbAvAHH  \\\n",
       "league             season game_id                                               \n",
       "ENG-Premier League 1617   2017-04-16 West Bromwich Albion-Liverpool      2.00   \n",
       "                          2016-10-22 Burnley-Everton                     1.71   \n",
       "                          2017-01-31 Sunderland-Tottenham Hotspur        1.88   \n",
       "                          2016-08-28 Manchester City-West Ham United     1.77   \n",
       "                          2017-05-17 Southampton-Manchester United       1.91   \n",
       "\n",
       "                                                                      BbMxAHA  \\\n",
       "league             season game_id                                               \n",
       "ENG-Premier League 1617   2017-04-16 West Bromwich Albion-Liverpool      1.93   \n",
       "                          2016-10-22 Burnley-Everton                     2.30   \n",
       "                          2017-01-31 Sunderland-Tottenham Hotspur        2.02   \n",
       "                          2016-08-28 Manchester City-West Ham United     2.20   \n",
       "                          2017-05-17 Southampton-Manchester United       1.99   \n",
       "\n",
       "                                                                      BbAvAHA  \\\n",
       "league             season game_id                                               \n",
       "ENG-Premier League 1617   2017-04-16 West Bromwich Albion-Liverpool      1.87   \n",
       "                          2016-10-22 Burnley-Everton                     2.17   \n",
       "                          2017-01-31 Sunderland-Tottenham Hotspur        1.97   \n",
       "                          2016-08-28 Manchester City-West Ham United     2.08   \n",
       "                          2017-05-17 Southampton-Manchester United       1.95   \n",
       "\n",
       "                                                                      PSCH  \\\n",
       "league             season game_id                                            \n",
       "ENG-Premier League 1617   2017-04-16 West Bromwich Albion-Liverpool   4.58   \n",
       "                          2016-10-22 Burnley-Everton                  5.90   \n",
       "                          2017-01-31 Sunderland-Tottenham Hotspur     8.75   \n",
       "                          2016-08-28 Manchester City-West Ham United  1.26   \n",
       "                          2017-05-17 Southampton-Manchester United    2.37   \n",
       "\n",
       "                                                                      PSCD  \\\n",
       "league             season game_id                                            \n",
       "ENG-Premier League 1617   2017-04-16 West Bromwich Albion-Liverpool   3.71   \n",
       "                          2016-10-22 Burnley-Everton                  3.73   \n",
       "                          2017-01-31 Sunderland-Tottenham Hotspur     5.71   \n",
       "                          2016-08-28 Manchester City-West Ham United  6.50   \n",
       "                          2017-05-17 Southampton-Manchester United    3.32   \n",
       "\n",
       "                                                                       PSCA  \n",
       "league             season game_id                                            \n",
       "ENG-Premier League 1617   2017-04-16 West Bromwich Albion-Liverpool    1.88  \n",
       "                          2016-10-22 Burnley-Everton                   1.71  \n",
       "                          2017-01-31 Sunderland-Tottenham Hotspur      1.37  \n",
       "                          2016-08-28 Manchester City-West Ham United  13.25  \n",
       "                          2017-05-17 Southampton-Manchester United     3.26  \n",
       "\n",
       "[5 rows x 64 columns]"
      ]
     },
     "execution_count": 189,
     "metadata": {},
     "output_type": "execute_result"
    }
   ],
   "source": [
    "prem = foo.MatchHistory('ENG-Premier League', range(2016, 2017)).read_games()\n",
    "prem.sample(5)"
   ]
  },
  {
   "cell_type": "code",
   "execution_count": 190,
   "metadata": {},
   "outputs": [
    {
     "data": {
      "text/plain": [
       "['date',\n",
       " 'home_team',\n",
       " 'away_team',\n",
       " 'FTHG',\n",
       " 'FTAG',\n",
       " 'FTR',\n",
       " 'HTHG',\n",
       " 'HTAG',\n",
       " 'HTR',\n",
       " 'Referee',\n",
       " 'HS',\n",
       " 'AS',\n",
       " 'HST',\n",
       " 'AST',\n",
       " 'HF',\n",
       " 'AF',\n",
       " 'HC',\n",
       " 'AC',\n",
       " 'HY',\n",
       " 'AY',\n",
       " 'HR',\n",
       " 'AR',\n",
       " 'B365H',\n",
       " 'B365D',\n",
       " 'B365A',\n",
       " 'BWH',\n",
       " 'BWD',\n",
       " 'BWA',\n",
       " 'IWH',\n",
       " 'IWD',\n",
       " 'IWA',\n",
       " 'LBH',\n",
       " 'LBD',\n",
       " 'LBA',\n",
       " 'PSH',\n",
       " 'PSD',\n",
       " 'PSA',\n",
       " 'WHH',\n",
       " 'WHD',\n",
       " 'WHA',\n",
       " 'VCH',\n",
       " 'VCD',\n",
       " 'VCA',\n",
       " 'Bb1X2',\n",
       " 'BbMxH',\n",
       " 'BbAvH',\n",
       " 'BbMxD',\n",
       " 'BbAvD',\n",
       " 'BbMxA',\n",
       " 'BbAvA',\n",
       " 'BbOU',\n",
       " 'BbMx>2.5',\n",
       " 'BbAv>2.5',\n",
       " 'BbMx<2.5',\n",
       " 'BbAv<2.5',\n",
       " 'BbAH',\n",
       " 'BbAHh',\n",
       " 'BbMxAHH',\n",
       " 'BbAvAHH',\n",
       " 'BbMxAHA',\n",
       " 'BbAvAHA',\n",
       " 'PSCH',\n",
       " 'PSCD',\n",
       " 'PSCA']"
      ]
     },
     "execution_count": 190,
     "metadata": {},
     "output_type": "execute_result"
    }
   ],
   "source": [
    "list(prem) # columns of DataFrame"
   ]
  },
  {
   "cell_type": "markdown",
   "metadata": {},
   "source": [
    "#### TODO check correct formula and explain going from odds $\\rightarrow$ prob"
   ]
  },
  {
   "cell_type": "code",
   "execution_count": 191,
   "metadata": {
    "collapsed": true
   },
   "outputs": [],
   "source": [
    "# odds are typically given for home team\n",
    "def probs_from_odds(odds_win, odds_draw, odds_lose):\n",
    "    prob_win, prob_draw, prob_lose = \\\n",
    "        map(lambda odds: odds / (1 + odds) , [odds_win, odds_draw, odds_lose])\n",
    "    vig = prob_win + prob_draw + prob_lose - 1 # bookie's cut\n",
    "    prob_win_normed, prob_draw_normed, prob_lose_normed = \\\n",
    "        map(lambda prob: prob / (1 + vig) , [prob_win, prob_draw, prob_lose])\n",
    "    return prob_win_normed, prob_draw_normed, prob_lose_normed"
   ]
  },
  {
   "cell_type": "code",
   "execution_count": 192,
   "metadata": {},
   "outputs": [
    {
     "data": {
      "text/plain": [
       "(0.33787160082557843, 0.342940942173299, 0.31918745700112244)"
      ]
     },
     "execution_count": 192,
     "metadata": {},
     "output_type": "execute_result"
    }
   ],
   "source": [
    "probs_from_odds(3.10, 3.30, 2.50)"
   ]
  },
  {
   "cell_type": "code",
   "execution_count": 193,
   "metadata": {},
   "outputs": [
    {
     "data": {
      "text/plain": [
       "{'1617'}"
      ]
     },
     "execution_count": 193,
     "metadata": {},
     "output_type": "execute_result"
    }
   ],
   "source": [
    "# Check seasons\n",
    "prem_index = prem.index.get_values()\n",
    "set([idx[1] for idx in prem_index])"
   ]
  },
  {
   "cell_type": "code",
   "execution_count": 194,
   "metadata": {},
   "outputs": [
    {
     "name": "stdout",
     "output_type": "stream",
     "text": [
      "['Burnley', 'Crystal Palace', 'Everton', 'Hull City', 'Manchester City', 'Middlesbrough', 'Southampton', 'AFC Bournemouth', 'Arsenal', 'Chelsea', 'Manchester United', 'Leicester City', 'Stoke City', 'Swansea City', 'Tottenham Hotspur', 'Watford', 'West Bromwich Albion', 'Sunderland', 'West Ham United', 'Liverpool']\n"
     ]
    }
   ],
   "source": [
    "teams = list(prem.home_team.unique())\n",
    "num_teams = len(teams)\n",
    "print(teams)"
   ]
  },
  {
   "cell_type": "markdown",
   "metadata": {
    "collapsed": true
   },
   "source": [
    "## Winning probabilities matrix\n",
    "\n",
    "What we want now is the matrix $X\\in [0,1]^{38 \\times 20}$, with elements defined by\n",
    "\n",
    "$$X_{i,j} := p^{(i)}_j = \\text{probability that team }j\\text{ wins in week }i.$$"
   ]
  },
  {
   "cell_type": "markdown",
   "metadata": {},
   "source": [
    "#### TODO Refactor to take odds from different bookies, maybe in `prob_from_odds`"
   ]
  },
  {
   "cell_type": "code",
   "execution_count": 195,
   "metadata": {
    "scrolled": false
   },
   "outputs": [],
   "source": [
    "X = np.zeros( (2 * (num_teams - 1), num_teams))\n",
    "X_index = np.empty((2 * (num_teams - 1), num_teams), dtype=object)\n",
    "games_played_by_team = np.zeros(len(teams), dtype=int) # array keeps track of how many games each team has played\n",
    "\n",
    "for index, row in prem.iterrows():\n",
    "    j_home = teams.index(row[\"home_team\"])\n",
    "    j_away = teams.index(row[\"away_team\"])\n",
    "    i_home = games_played_by_team[j_home]\n",
    "    i_away = games_played_by_team[j_away]\n",
    "    home_prob, draw_prob, away_prob = probs_from_odds(row[\"B365H\"], row[\"B365D\"], row[\"B365A\"])\n",
    "    X[i_home, j_home] = home_prob\n",
    "    X[i_away, j_away] = away_prob\n",
    "    X_index[i_home, j_home] = index\n",
    "    X_index[i_away, j_away] = index\n",
    "    games_played_by_team[j_home] += 1\n",
    "    games_played_by_team[j_away] += 1\n",
    "    "
   ]
  },
  {
   "cell_type": "code",
   "execution_count": 196,
   "metadata": {},
   "outputs": [
    {
     "name": "stdout",
     "output_type": "stream",
     "text": [
      "(array([], dtype=int64), array([], dtype=int64))\n"
     ]
    }
   ],
   "source": [
    "print(np.where(X == 0))"
   ]
  },
  {
   "cell_type": "code",
   "execution_count": 197,
   "metadata": {},
   "outputs": [
    {
     "name": "stdout",
     "output_type": "stream",
     "text": [
      "0.354387283101\n",
      "('ENG-Premier League', '1617', '2017-02-11 Middlesbrough-Everton')\n",
      "0.354387283101 0.341707952758 0.303904764141\n"
     ]
    }
   ],
   "source": [
    "print(X[24,5])\n",
    "print(X_index[24,5])\n",
    "game = prem.loc[X_index[24,5]]\n",
    "home_prob, draw_prob, away_prob = probs_from_odds(game[\"B365H\"], game[\"B365D\"], game[\"B365A\"])\n",
    "print(home_prob, draw_prob, away_prob)"
   ]
  },
  {
   "cell_type": "code",
   "execution_count": null,
   "metadata": {
    "collapsed": true
   },
   "outputs": [],
   "source": []
  }
 ],
 "metadata": {
  "kernelspec": {
   "display_name": "Python 3",
   "language": "python",
   "name": "python3"
  },
  "language_info": {
   "codemirror_mode": {
    "name": "ipython",
    "version": 3
   },
   "file_extension": ".py",
   "mimetype": "text/x-python",
   "name": "python",
   "nbconvert_exporter": "python",
   "pygments_lexer": "ipython3",
   "version": "3.5.4"
  }
 },
 "nbformat": 4,
 "nbformat_minor": 2
}
