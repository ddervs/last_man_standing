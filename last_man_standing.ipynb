{
 "cells": [
  {
   "cell_type": "markdown",
   "metadata": {},
   "source": [
    "# Last Man Standing\n",
    "\n",
    "-- [Danial Dervovic](https://ddervs.github.io)\n",
    "\n",
    "A good friend of mine with a penchant for sports betting told me recently about a new game he's been playing: [Last Man Standing](https://organise.runlastman.com/how-to-play-premiership/). In this blog post we're going to develop strategies for playing this game. Let's get to it.\n",
    "\n",
    "**The Rules.**\n",
    "\n",
    "- The game starts at the beginning of the English Premier League (EPL) season (or other sports league of your choice).\n",
    "- There are $M$ players in the game. Each player puts in $x$ units of cash (say, twenty quid).\n",
    "- Each of the $M$ players chooses one of the $n$ teams in the league. Different players can choose the same team if they wish.\n",
    "- If a given player's team wins, they go through to the next week; lose or draw, they're out.\n",
    "- The remaining players choose another team that they think will win. Importantly, *no player can choose a team they have chosen before*.\n",
    "- This procedure continues until either: there is one player left and they take all the winnings; or, there are no players left and another game begins, starting the next week. The pot rolls over, everyone puts in $x$ monies again and they are each free to choose any team they like again.\n",
    "- Continue until everyone is broke, apart from the player with the best strategy! Hopefully this will be us by the end of this blog post 😉.\n",
    "\n",
    "The moment my pal told me about this I was hooked. This seemed exactly like the kind of game amenable to some mathematical and algorithmic analysis -- potentially giving the informed player an edge over their unwitting opponents. What follows is my winding path of thoughts and strategies on how to play this game.\n",
    "\n",
    "## Formalised model\n",
    "\n",
    "The first thing to do when thinking about this was to create a mathematical model of the game. \n",
    "\n",
    "First, we have $n$ teams. We impose a linear ordering of the teams, i.e., the $1$st team is Arsenal, the $2$nd team is Chelsea etc -- we will refer to a team simply by its index $j \\in [n]$ (where $n:=\\{1,2,\\ldots, n\\}$). Naturally, a *strategy* is then defined as ordered list of integers from $[n]$, with no repeats. Optimistically, we hope we won't lose at any round so we specify a strategy as the longest possible list. The resulting list is a [*permutation*](https://en.wikipedia.org/wiki/Permutation), $\\sigma \\in \\mathbb{S}_n$, where $\\mathbb{S}_n$ is the symmetric group on $n$ elements.\n",
    "\n",
    "Note an individual season will require two consecutive strategies in the best case, as each team plays home and away (concretely, in the EPL each pair of teams plays a match against each other twice per season). Without loss of generality we can consider the single best strategy from any chosen starting point in the season. When we must start again (i.e. when all our choices win, or more likely, one loses and we start playing again), recalculate the best strategy from the new starting point. \n",
    "\n",
    "-----\n",
    "\n",
    "Now we have a formal notion for a strategy (as a permutation $\\sigma \\in \\mathbb{S}_n$) we need to specify how to evaluate the various strategies. Note that the number of possible strategies is large ($n! \\sim 10^{18}$ for the EPL). Let's take the most natural measure: how likely is it that a strategy wins? Namely,\n",
    "\n",
    "$$\\operatorname{VAL}(\\sigma) := \\mathbb{P}(\\sigma \\text{ wins} ) = \\mathbb{P}( \\omega^{(1)}_{\\sigma(1)} \\cap \\omega^{(2)}_{\\sigma(2)} \\cap \\cdots \\cap \\omega^{(n)}_{\\sigma(n)} ),$$\n",
    "\n",
    "where $\\omega^{(i)}_{j}$ is the event that team $j$ wins in week $i$ and we define $\\operatorname{VAL}(\\sigma)$ as the *value* of a strategy $\\sigma \\in \\mathbb{S}_n$. Of course, the best strategy $\\sigma^\\star$ is the one with highest probability of winning, i.e. $\\sigma^\\star := \\arg \\max_{\\sigma \\in \\mathbb{S}_n} \\operatorname{VAL}(\\sigma)$.\n",
    "\n",
    "\n",
    "Now we run into our first problem: how to evaluate $\\operatorname{VAL}(\\sigma)$. This involves computing $\\mathbb{P}(\\sigma \\text{ wins} )$. Now we don't even know if this probability is well defined, different probabilistic models will return different values. Moreover, there are $n!$ strategies, so evaluating each strategy separately will be intractable. We *need* a simplifying assumption. First, let's introduce some notation:\n",
    "$$p^{(i)}_j = \\mathbb{P} \\left( \\text{team }j\\text{ wins in week }i \\right) = \\mathbb{P}(\\omega^{(i)}_j).$$\n",
    "We're going to make the following assumption:\n",
    "\n",
    "**Assumption 1.** *The winning probabilities $p^{(i)}_j$ are independent, for all $i,j\\in [n]$.*\n",
    "\n",
    "This assumption clearly doesn't hold in reality. Consider the following scenario: team $j$ plays team $j'$ in week $i$. Then $p^{(i)}_j + p^{(i)}_{j'} \\leq 1$ since both teams can't win at the same time! One could consider numerous other scenarios in which this model fails, for instance think about a 'winning streak' -- teams that have in previous weeks are likely to keep winning. \n",
    "\n",
    "Nonetheless, we are going to work within the independence model as it will make the winning probabilities tractable. We are going to approximate $\\operatorname{VAL}(\\sigma)$ in the following way:\n",
    "\n",
    "$$ \\widetilde{\\operatorname{VAL}}(\\sigma) = \\prod_{i \\in [n]} p^{(i)}_{\\sigma(i)},$$\n",
    "\n",
    "i.e. using the product of the winning probabilities, which is just the joint winning probability $\\mathbb{P}(\\sigma \\text{ wins})$ for the teams ordered according to the strategy $\\sigma$, under the independence assumption (Assumption 1).\n",
    "\n",
    "We can now formally define the Last Man Standing problem $(\\mathsf{LMS})$.\n",
    "\n",
    "**Problem ($\\mathsf{LMS}$).** Let $p^{(i)}_j \\in (0, 1)$ for $i,j \\in [n]$. Then, find\n",
    "$$\\tag{$\\mathsf{LMS}$} \\widetilde{\\sigma}^\\star = \\arg \\max_{\\sigma \\in \\mathbb{S_n}}\\widetilde{\\operatorname{VAL}}(\\sigma).  $$\n",
    "\n",
    "*Note.* The domain of the $p^{(i)}_j$ is the open interval $(0,1)$ as opposed to the closed interval $[0,1]$ since a team is never 100% likely to win or lose."
   ]
  },
  {
   "cell_type": "markdown",
   "metadata": {},
   "source": [
    "## Implementation\n",
    "\n",
    "Great, we now have a concrete mathematical problem we would like to solve, but it would be good to apply to some concrete data. Namely, where do we get the winning probabilities $p^{(i)}_j$? I thought about this for a while and came to the conclusion that no one is going to be better at calculating the chances of different of outcomes of sports games than bookies. Duh! Now we just need bookies' odds data from somewhere...\n",
    "\n",
    "Fortunately, the excellent `footballdata` python package gives us everything we need in a nice `pandas` DataFrame format. Let's explore a little bit."
   ]
  },
  {
   "cell_type": "code",
   "execution_count": 2,
   "metadata": {
    "collapsed": true
   },
   "outputs": [],
   "source": [
    "%matplotlib inline\n",
    "%config InlineBackend.figure_format = 'retina'\n",
    "\n",
    "import footballdata as foo\n",
    "import matplotlib.pyplot as plt\n",
    "import numpy as np\n",
    "np.random.seed(1234)\n",
    "import pandas as pd\n",
    "import itertools\n",
    "import cvxpy as cvx\n",
    "\n",
    "from matplotlib.pyplot import figure, show\n",
    "import pprint as pp"
   ]
  },
  {
   "cell_type": "code",
   "execution_count": 3,
   "metadata": {},
   "outputs": [
    {
     "name": "stdout",
     "output_type": "stream",
     "text": [
      "Provides pandas.DataFrames from CSV files available at\n",
      "    http://www.football-data.co.uk/data.php\n",
      "\n",
      "    Column names are explained here: http://www.football-data.co.uk/notes.txt\n",
      "\n",
      "    Data will be downloaded as necessary and cached locally in ./data\n",
      "\n",
      "    Parameters\n",
      "    ----------\n",
      "    leagues : string or iterable of league-ids to include, None for all\n",
      "    seasons : string, int or list of seasons. Examples:\n",
      "              '16-17'; 2016; '2016-17'; [14, 15, 16]\n",
      "    \n"
     ]
    }
   ],
   "source": [
    "print(foo.MatchHistory.__doc__)"
   ]
  },
  {
   "cell_type": "code",
   "execution_count": 4,
   "metadata": {},
   "outputs": [
    {
     "data": {
      "text/plain": [
       "['BEL-Jupiler League',\n",
       " 'ENG-Championship',\n",
       " 'ENG-Conference',\n",
       " 'ENG-League 1',\n",
       " 'ENG-League 2',\n",
       " 'ENG-Premier League',\n",
       " 'ESP-La Liga',\n",
       " 'ESP-La Liga 2',\n",
       " 'FRA-Ligue 1',\n",
       " 'FRA-Ligue 2',\n",
       " 'GER-Bundesliga',\n",
       " 'GER-Bundesliga 2',\n",
       " 'GRE-Ethniki Katigoria',\n",
       " 'ITA-Serie A',\n",
       " 'ITA-Serie B',\n",
       " 'NED-Eredivisie',\n",
       " 'POR-Liga 1',\n",
       " 'SCO-Division 1',\n",
       " 'SCO-Division 2',\n",
       " 'SCO-Division 3',\n",
       " 'SCO-Premiership',\n",
       " 'TUR-Ligi 1']"
      ]
     },
     "execution_count": 4,
     "metadata": {},
     "output_type": "execute_result"
    }
   ],
   "source": [
    "foo.MatchHistory.available_leagues()"
   ]
  },
  {
   "cell_type": "code",
   "execution_count": 3,
   "metadata": {},
   "outputs": [
    {
     "data": {
      "text/html": [
       "<div>\n",
       "<style>\n",
       "    .dataframe thead tr:only-child th {\n",
       "        text-align: right;\n",
       "    }\n",
       "\n",
       "    .dataframe thead th {\n",
       "        text-align: left;\n",
       "    }\n",
       "\n",
       "    .dataframe tbody tr th {\n",
       "        vertical-align: top;\n",
       "    }\n",
       "</style>\n",
       "<table border=\"1\" class=\"dataframe\">\n",
       "  <thead>\n",
       "    <tr style=\"text-align: right;\">\n",
       "      <th></th>\n",
       "      <th></th>\n",
       "      <th></th>\n",
       "      <th>date</th>\n",
       "      <th>home_team</th>\n",
       "      <th>away_team</th>\n",
       "      <th>FTHG</th>\n",
       "      <th>FTAG</th>\n",
       "      <th>FTR</th>\n",
       "      <th>HTHG</th>\n",
       "      <th>HTAG</th>\n",
       "      <th>HTR</th>\n",
       "      <th>Referee</th>\n",
       "      <th>...</th>\n",
       "      <th>BbAv&lt;2.5</th>\n",
       "      <th>BbAH</th>\n",
       "      <th>BbAHh</th>\n",
       "      <th>BbMxAHH</th>\n",
       "      <th>BbAvAHH</th>\n",
       "      <th>BbMxAHA</th>\n",
       "      <th>BbAvAHA</th>\n",
       "      <th>PSCH</th>\n",
       "      <th>PSCD</th>\n",
       "      <th>PSCA</th>\n",
       "    </tr>\n",
       "    <tr>\n",
       "      <th>league</th>\n",
       "      <th>season</th>\n",
       "      <th>game_id</th>\n",
       "      <th></th>\n",
       "      <th></th>\n",
       "      <th></th>\n",
       "      <th></th>\n",
       "      <th></th>\n",
       "      <th></th>\n",
       "      <th></th>\n",
       "      <th></th>\n",
       "      <th></th>\n",
       "      <th></th>\n",
       "      <th></th>\n",
       "      <th></th>\n",
       "      <th></th>\n",
       "      <th></th>\n",
       "      <th></th>\n",
       "      <th></th>\n",
       "      <th></th>\n",
       "      <th></th>\n",
       "      <th></th>\n",
       "      <th></th>\n",
       "      <th></th>\n",
       "    </tr>\n",
       "  </thead>\n",
       "  <tbody>\n",
       "    <tr>\n",
       "      <th rowspan=\"5\" valign=\"top\">ENG-Premier League</th>\n",
       "      <th rowspan=\"5\" valign=\"top\">1617</th>\n",
       "      <th>2017-05-12 West Bromwich Albion-Chelsea</th>\n",
       "      <td>2017-05-12</td>\n",
       "      <td>West Bromwich Albion</td>\n",
       "      <td>Chelsea</td>\n",
       "      <td>0</td>\n",
       "      <td>1</td>\n",
       "      <td>A</td>\n",
       "      <td>0</td>\n",
       "      <td>0</td>\n",
       "      <td>D</td>\n",
       "      <td>M Oliver</td>\n",
       "      <td>...</td>\n",
       "      <td>1.99</td>\n",
       "      <td>20</td>\n",
       "      <td>1.25</td>\n",
       "      <td>2.06</td>\n",
       "      <td>2.02</td>\n",
       "      <td>1.89</td>\n",
       "      <td>1.85</td>\n",
       "      <td>9.76</td>\n",
       "      <td>5.18</td>\n",
       "      <td>1.38</td>\n",
       "    </tr>\n",
       "    <tr>\n",
       "      <th>2017-04-15 Tottenham Hotspur-AFC Bournemouth</th>\n",
       "      <td>2017-04-15</td>\n",
       "      <td>Tottenham Hotspur</td>\n",
       "      <td>AFC Bournemouth</td>\n",
       "      <td>4</td>\n",
       "      <td>0</td>\n",
       "      <td>H</td>\n",
       "      <td>2</td>\n",
       "      <td>0</td>\n",
       "      <td>H</td>\n",
       "      <td>M Oliver</td>\n",
       "      <td>...</td>\n",
       "      <td>2.80</td>\n",
       "      <td>21</td>\n",
       "      <td>-1.75</td>\n",
       "      <td>1.98</td>\n",
       "      <td>1.92</td>\n",
       "      <td>2.01</td>\n",
       "      <td>1.95</td>\n",
       "      <td>1.25</td>\n",
       "      <td>7.00</td>\n",
       "      <td>12.80</td>\n",
       "    </tr>\n",
       "    <tr>\n",
       "      <th>2017-04-30 Manchester United-Swansea City</th>\n",
       "      <td>2017-04-30</td>\n",
       "      <td>Manchester United</td>\n",
       "      <td>Swansea City</td>\n",
       "      <td>1</td>\n",
       "      <td>1</td>\n",
       "      <td>D</td>\n",
       "      <td>1</td>\n",
       "      <td>0</td>\n",
       "      <td>H</td>\n",
       "      <td>N Swarbrick</td>\n",
       "      <td>...</td>\n",
       "      <td>2.03</td>\n",
       "      <td>21</td>\n",
       "      <td>-1.50</td>\n",
       "      <td>2.21</td>\n",
       "      <td>2.14</td>\n",
       "      <td>1.78</td>\n",
       "      <td>1.74</td>\n",
       "      <td>1.42</td>\n",
       "      <td>4.79</td>\n",
       "      <td>9.45</td>\n",
       "    </tr>\n",
       "    <tr>\n",
       "      <th>2016-10-29 Manchester United-Burnley</th>\n",
       "      <td>2016-10-29</td>\n",
       "      <td>Manchester United</td>\n",
       "      <td>Burnley</td>\n",
       "      <td>0</td>\n",
       "      <td>0</td>\n",
       "      <td>D</td>\n",
       "      <td>0</td>\n",
       "      <td>0</td>\n",
       "      <td>D</td>\n",
       "      <td>M Clattenburg</td>\n",
       "      <td>...</td>\n",
       "      <td>2.12</td>\n",
       "      <td>36</td>\n",
       "      <td>-2.00</td>\n",
       "      <td>2.13</td>\n",
       "      <td>2.05</td>\n",
       "      <td>1.85</td>\n",
       "      <td>1.80</td>\n",
       "      <td>1.26</td>\n",
       "      <td>6.40</td>\n",
       "      <td>14.25</td>\n",
       "    </tr>\n",
       "    <tr>\n",
       "      <th>2017-05-21 Leicester City-AFC Bournemouth</th>\n",
       "      <td>2017-05-21</td>\n",
       "      <td>Leicester City</td>\n",
       "      <td>AFC Bournemouth</td>\n",
       "      <td>1</td>\n",
       "      <td>1</td>\n",
       "      <td>D</td>\n",
       "      <td>0</td>\n",
       "      <td>1</td>\n",
       "      <td>A</td>\n",
       "      <td>l Mason</td>\n",
       "      <td>...</td>\n",
       "      <td>2.23</td>\n",
       "      <td>17</td>\n",
       "      <td>-0.50</td>\n",
       "      <td>1.95</td>\n",
       "      <td>1.89</td>\n",
       "      <td>2.03</td>\n",
       "      <td>1.98</td>\n",
       "      <td>1.69</td>\n",
       "      <td>4.50</td>\n",
       "      <td>4.81</td>\n",
       "    </tr>\n",
       "  </tbody>\n",
       "</table>\n",
       "<p>5 rows × 64 columns</p>\n",
       "</div>"
      ],
      "text/plain": [
       "                                                                             date  \\\n",
       "league             season game_id                                                   \n",
       "ENG-Premier League 1617   2017-05-12 West Bromwich Albion-Chelsea      2017-05-12   \n",
       "                          2017-04-15 Tottenham Hotspur-AFC Bournemouth 2017-04-15   \n",
       "                          2017-04-30 Manchester United-Swansea City    2017-04-30   \n",
       "                          2016-10-29 Manchester United-Burnley         2016-10-29   \n",
       "                          2017-05-21 Leicester City-AFC Bournemouth    2017-05-21   \n",
       "\n",
       "                                                                                   home_team  \\\n",
       "league             season game_id                                                              \n",
       "ENG-Premier League 1617   2017-05-12 West Bromwich Albion-Chelsea       West Bromwich Albion   \n",
       "                          2017-04-15 Tottenham Hotspur-AFC Bournemouth     Tottenham Hotspur   \n",
       "                          2017-04-30 Manchester United-Swansea City        Manchester United   \n",
       "                          2016-10-29 Manchester United-Burnley             Manchester United   \n",
       "                          2017-05-21 Leicester City-AFC Bournemouth           Leicester City   \n",
       "\n",
       "                                                                              away_team  \\\n",
       "league             season game_id                                                         \n",
       "ENG-Premier League 1617   2017-05-12 West Bromwich Albion-Chelsea               Chelsea   \n",
       "                          2017-04-15 Tottenham Hotspur-AFC Bournemouth  AFC Bournemouth   \n",
       "                          2017-04-30 Manchester United-Swansea City        Swansea City   \n",
       "                          2016-10-29 Manchester United-Burnley                  Burnley   \n",
       "                          2017-05-21 Leicester City-AFC Bournemouth     AFC Bournemouth   \n",
       "\n",
       "                                                                        FTHG  \\\n",
       "league             season game_id                                              \n",
       "ENG-Premier League 1617   2017-05-12 West Bromwich Albion-Chelsea          0   \n",
       "                          2017-04-15 Tottenham Hotspur-AFC Bournemouth     4   \n",
       "                          2017-04-30 Manchester United-Swansea City        1   \n",
       "                          2016-10-29 Manchester United-Burnley             0   \n",
       "                          2017-05-21 Leicester City-AFC Bournemouth        1   \n",
       "\n",
       "                                                                        FTAG  \\\n",
       "league             season game_id                                              \n",
       "ENG-Premier League 1617   2017-05-12 West Bromwich Albion-Chelsea          1   \n",
       "                          2017-04-15 Tottenham Hotspur-AFC Bournemouth     0   \n",
       "                          2017-04-30 Manchester United-Swansea City        1   \n",
       "                          2016-10-29 Manchester United-Burnley             0   \n",
       "                          2017-05-21 Leicester City-AFC Bournemouth        1   \n",
       "\n",
       "                                                                       FTR  \\\n",
       "league             season game_id                                            \n",
       "ENG-Premier League 1617   2017-05-12 West Bromwich Albion-Chelsea        A   \n",
       "                          2017-04-15 Tottenham Hotspur-AFC Bournemouth   H   \n",
       "                          2017-04-30 Manchester United-Swansea City      D   \n",
       "                          2016-10-29 Manchester United-Burnley           D   \n",
       "                          2017-05-21 Leicester City-AFC Bournemouth      D   \n",
       "\n",
       "                                                                        HTHG  \\\n",
       "league             season game_id                                              \n",
       "ENG-Premier League 1617   2017-05-12 West Bromwich Albion-Chelsea          0   \n",
       "                          2017-04-15 Tottenham Hotspur-AFC Bournemouth     2   \n",
       "                          2017-04-30 Manchester United-Swansea City        1   \n",
       "                          2016-10-29 Manchester United-Burnley             0   \n",
       "                          2017-05-21 Leicester City-AFC Bournemouth        0   \n",
       "\n",
       "                                                                        HTAG  \\\n",
       "league             season game_id                                              \n",
       "ENG-Premier League 1617   2017-05-12 West Bromwich Albion-Chelsea          0   \n",
       "                          2017-04-15 Tottenham Hotspur-AFC Bournemouth     0   \n",
       "                          2017-04-30 Manchester United-Swansea City        0   \n",
       "                          2016-10-29 Manchester United-Burnley             0   \n",
       "                          2017-05-21 Leicester City-AFC Bournemouth        1   \n",
       "\n",
       "                                                                       HTR  \\\n",
       "league             season game_id                                            \n",
       "ENG-Premier League 1617   2017-05-12 West Bromwich Albion-Chelsea        D   \n",
       "                          2017-04-15 Tottenham Hotspur-AFC Bournemouth   H   \n",
       "                          2017-04-30 Manchester United-Swansea City      H   \n",
       "                          2016-10-29 Manchester United-Burnley           D   \n",
       "                          2017-05-21 Leicester City-AFC Bournemouth      A   \n",
       "\n",
       "                                                                              Referee  \\\n",
       "league             season game_id                                                       \n",
       "ENG-Premier League 1617   2017-05-12 West Bromwich Albion-Chelsea            M Oliver   \n",
       "                          2017-04-15 Tottenham Hotspur-AFC Bournemouth       M Oliver   \n",
       "                          2017-04-30 Manchester United-Swansea City       N Swarbrick   \n",
       "                          2016-10-29 Manchester United-Burnley          M Clattenburg   \n",
       "                          2017-05-21 Leicester City-AFC Bournemouth           l Mason   \n",
       "\n",
       "                                                                        ...    \\\n",
       "league             season game_id                                       ...     \n",
       "ENG-Premier League 1617   2017-05-12 West Bromwich Albion-Chelsea       ...     \n",
       "                          2017-04-15 Tottenham Hotspur-AFC Bournemouth  ...     \n",
       "                          2017-04-30 Manchester United-Swansea City     ...     \n",
       "                          2016-10-29 Manchester United-Burnley          ...     \n",
       "                          2017-05-21 Leicester City-AFC Bournemouth     ...     \n",
       "\n",
       "                                                                        BbAv<2.5  \\\n",
       "league             season game_id                                                  \n",
       "ENG-Premier League 1617   2017-05-12 West Bromwich Albion-Chelsea           1.99   \n",
       "                          2017-04-15 Tottenham Hotspur-AFC Bournemouth      2.80   \n",
       "                          2017-04-30 Manchester United-Swansea City         2.03   \n",
       "                          2016-10-29 Manchester United-Burnley              2.12   \n",
       "                          2017-05-21 Leicester City-AFC Bournemouth         2.23   \n",
       "\n",
       "                                                                        BbAH  \\\n",
       "league             season game_id                                              \n",
       "ENG-Premier League 1617   2017-05-12 West Bromwich Albion-Chelsea         20   \n",
       "                          2017-04-15 Tottenham Hotspur-AFC Bournemouth    21   \n",
       "                          2017-04-30 Manchester United-Swansea City       21   \n",
       "                          2016-10-29 Manchester United-Burnley            36   \n",
       "                          2017-05-21 Leicester City-AFC Bournemouth       17   \n",
       "\n",
       "                                                                        BbAHh  \\\n",
       "league             season game_id                                               \n",
       "ENG-Premier League 1617   2017-05-12 West Bromwich Albion-Chelsea        1.25   \n",
       "                          2017-04-15 Tottenham Hotspur-AFC Bournemouth  -1.75   \n",
       "                          2017-04-30 Manchester United-Swansea City     -1.50   \n",
       "                          2016-10-29 Manchester United-Burnley          -2.00   \n",
       "                          2017-05-21 Leicester City-AFC Bournemouth     -0.50   \n",
       "\n",
       "                                                                        BbMxAHH  \\\n",
       "league             season game_id                                                 \n",
       "ENG-Premier League 1617   2017-05-12 West Bromwich Albion-Chelsea          2.06   \n",
       "                          2017-04-15 Tottenham Hotspur-AFC Bournemouth     1.98   \n",
       "                          2017-04-30 Manchester United-Swansea City        2.21   \n",
       "                          2016-10-29 Manchester United-Burnley             2.13   \n",
       "                          2017-05-21 Leicester City-AFC Bournemouth        1.95   \n",
       "\n",
       "                                                                        BbAvAHH  \\\n",
       "league             season game_id                                                 \n",
       "ENG-Premier League 1617   2017-05-12 West Bromwich Albion-Chelsea          2.02   \n",
       "                          2017-04-15 Tottenham Hotspur-AFC Bournemouth     1.92   \n",
       "                          2017-04-30 Manchester United-Swansea City        2.14   \n",
       "                          2016-10-29 Manchester United-Burnley             2.05   \n",
       "                          2017-05-21 Leicester City-AFC Bournemouth        1.89   \n",
       "\n",
       "                                                                        BbMxAHA  \\\n",
       "league             season game_id                                                 \n",
       "ENG-Premier League 1617   2017-05-12 West Bromwich Albion-Chelsea          1.89   \n",
       "                          2017-04-15 Tottenham Hotspur-AFC Bournemouth     2.01   \n",
       "                          2017-04-30 Manchester United-Swansea City        1.78   \n",
       "                          2016-10-29 Manchester United-Burnley             1.85   \n",
       "                          2017-05-21 Leicester City-AFC Bournemouth        2.03   \n",
       "\n",
       "                                                                        BbAvAHA  \\\n",
       "league             season game_id                                                 \n",
       "ENG-Premier League 1617   2017-05-12 West Bromwich Albion-Chelsea          1.85   \n",
       "                          2017-04-15 Tottenham Hotspur-AFC Bournemouth     1.95   \n",
       "                          2017-04-30 Manchester United-Swansea City        1.74   \n",
       "                          2016-10-29 Manchester United-Burnley             1.80   \n",
       "                          2017-05-21 Leicester City-AFC Bournemouth        1.98   \n",
       "\n",
       "                                                                        PSCH  \\\n",
       "league             season game_id                                              \n",
       "ENG-Premier League 1617   2017-05-12 West Bromwich Albion-Chelsea       9.76   \n",
       "                          2017-04-15 Tottenham Hotspur-AFC Bournemouth  1.25   \n",
       "                          2017-04-30 Manchester United-Swansea City     1.42   \n",
       "                          2016-10-29 Manchester United-Burnley          1.26   \n",
       "                          2017-05-21 Leicester City-AFC Bournemouth     1.69   \n",
       "\n",
       "                                                                        PSCD  \\\n",
       "league             season game_id                                              \n",
       "ENG-Premier League 1617   2017-05-12 West Bromwich Albion-Chelsea       5.18   \n",
       "                          2017-04-15 Tottenham Hotspur-AFC Bournemouth  7.00   \n",
       "                          2017-04-30 Manchester United-Swansea City     4.79   \n",
       "                          2016-10-29 Manchester United-Burnley          6.40   \n",
       "                          2017-05-21 Leicester City-AFC Bournemouth     4.50   \n",
       "\n",
       "                                                                         PSCA  \n",
       "league             season game_id                                              \n",
       "ENG-Premier League 1617   2017-05-12 West Bromwich Albion-Chelsea        1.38  \n",
       "                          2017-04-15 Tottenham Hotspur-AFC Bournemouth  12.80  \n",
       "                          2017-04-30 Manchester United-Swansea City      9.45  \n",
       "                          2016-10-29 Manchester United-Burnley          14.25  \n",
       "                          2017-05-21 Leicester City-AFC Bournemouth      4.81  \n",
       "\n",
       "[5 rows x 64 columns]"
      ]
     },
     "execution_count": 3,
     "metadata": {},
     "output_type": "execute_result"
    }
   ],
   "source": [
    "prem = foo.MatchHistory('ENG-Premier League', range(2016, 2017)).read_games()\n",
    "prem.sample(5)"
   ]
  },
  {
   "cell_type": "code",
   "execution_count": 4,
   "metadata": {},
   "outputs": [
    {
     "name": "stdout",
     "output_type": "stream",
     "text": [
      "['date', 'home_team', 'away_team', 'FTHG', 'FTAG', 'FTR', 'HTHG', 'HTAG', 'HTR', 'Referee', 'HS', 'AS', 'HST', 'AST', 'HF', 'AF', 'HC', 'AC', 'HY', 'AY', 'HR', 'AR', 'B365H', 'B365D', 'B365A', 'BWH', 'BWD', 'BWA', 'IWH', 'IWD', 'IWA', 'LBH', 'LBD', 'LBA', 'PSH', 'PSD', 'PSA', 'WHH', 'WHD', 'WHA', 'VCH', 'VCD', 'VCA', 'Bb1X2', 'BbMxH', 'BbAvH', 'BbMxD', 'BbAvD', 'BbMxA', 'BbAvA', 'BbOU', 'BbMx>2.5', 'BbAv>2.5', 'BbMx<2.5', 'BbAv<2.5', 'BbAH', 'BbAHh', 'BbMxAHH', 'BbAvAHH', 'BbMxAHA', 'BbAvAHA', 'PSCH', 'PSCD', 'PSCA']\n"
     ]
    }
   ],
   "source": [
    "print(list(prem)) # columns of DataFrame"
   ]
  },
  {
   "cell_type": "markdown",
   "metadata": {},
   "source": [
    "We can see for the 2016-2017 premiership season we have a variety of bookies we can go to -- these are the fields ending in 'H', 'D' and 'A'; corresponding to 'home win', 'draw' and 'away win' respectively. Here we are given the odds in UK format. We will need to convert these odds into a probability."
   ]
  },
  {
   "cell_type": "markdown",
   "metadata": {},
   "source": [
    "### Compute probabilities from odds\n",
    "\n",
    "#### Describe European odds\n",
    "\n",
    "#### Describe computation to prob"
   ]
  },
  {
   "cell_type": "code",
   "execution_count": 5,
   "metadata": {
    "collapsed": true
   },
   "outputs": [],
   "source": [
    "def probs_from_odds(odds_home, odds_draw, odds_away):\n",
    "    prob_home, prob_draw, prob_away = \\\n",
    "        map(lambda odds: odds / (1 + odds) , [odds_home, odds_draw, odds_away])\n",
    "    vig = prob_home + prob_draw + prob_away - 1 # bookie's cut\n",
    "    prob_home_normed, prob_draw_normed, prob_away_normed = \\\n",
    "        map(lambda prob: prob / (1 + vig) , [prob_home, prob_draw, prob_away])\n",
    "    return prob_home_normed, prob_draw_normed, prob_away_normed"
   ]
  },
  {
   "cell_type": "code",
   "execution_count": null,
   "metadata": {
    "collapsed": true
   },
   "outputs": [],
   "source": [
    "probs_from_odds(3.10, 3.30, 2.50)"
   ]
  },
  {
   "cell_type": "code",
   "execution_count": null,
   "metadata": {
    "collapsed": true
   },
   "outputs": [],
   "source": [
    "# Check seasons\n",
    "prem_index = prem.index.get_values()\n",
    "set([idx[1] for idx in prem_index])"
   ]
  },
  {
   "cell_type": "code",
   "execution_count": null,
   "metadata": {
    "collapsed": true
   },
   "outputs": [],
   "source": [
    "teams = list(prem.home_team.unique())\n",
    "num_teams = len(teams)\n",
    "print(teams)"
   ]
  },
  {
   "cell_type": "markdown",
   "metadata": {
    "collapsed": true
   },
   "source": [
    "## Winning probabilities matrix\n",
    "\n",
    "What we want now is the matrix $X\\in [0,1]^{38 \\times 20}$, with elements defined by\n",
    "\n",
    "$$X_{i,j} := p^{(i)}_j = \\text{probability that team }j\\text{ wins in week }i.$$"
   ]
  },
  {
   "cell_type": "markdown",
   "metadata": {},
   "source": [
    "#### TODO Refactor to take odds from different bookies, maybe in `prob_from_odds`"
   ]
  },
  {
   "cell_type": "code",
   "execution_count": null,
   "metadata": {
    "collapsed": true,
    "scrolled": false
   },
   "outputs": [],
   "source": [
    "num_teams = len(teams)\n",
    "X = np.zeros( (2 * (num_teams - 1), num_teams))\n",
    "X_index = np.empty((2 * (num_teams - 1), num_teams), dtype=object)\n",
    "games_played_by_team = np.zeros(len(teams), dtype=int) # array keeps track of how many games each team has played\n",
    "\n",
    "for index, row in prem.iterrows():\n",
    "    j_home = teams.index(row[\"home_team\"])\n",
    "    j_away = teams.index(row[\"away_team\"])\n",
    "    i_home = games_played_by_team[j_home]\n",
    "    i_away = games_played_by_team[j_away]\n",
    "    home_prob, draw_prob, away_prob = probs_from_odds(row[\"B365H\"], row[\"B365D\"], row[\"B365A\"])\n",
    "    X[i_home, j_home] = home_prob\n",
    "    X[i_away, j_away] = away_prob\n",
    "    X_index[i_home, j_home] = index\n",
    "    X_index[i_away, j_away] = index\n",
    "    games_played_by_team[j_home] += 1\n",
    "    games_played_by_team[j_away] += 1\n",
    "    "
   ]
  },
  {
   "cell_type": "code",
   "execution_count": null,
   "metadata": {
    "collapsed": true
   },
   "outputs": [],
   "source": [
    "print(np.where(X == 0))"
   ]
  },
  {
   "cell_type": "code",
   "execution_count": null,
   "metadata": {
    "collapsed": true
   },
   "outputs": [],
   "source": [
    "print(X[24,5])\n",
    "print(X_index[24,5])\n",
    "game = prem.loc[X_index[24,5]]\n",
    "home_prob, draw_prob, away_prob = probs_from_odds(game[\"B365H\"], game[\"B365D\"], game[\"B365A\"])\n",
    "print(home_prob, draw_prob, away_prob)"
   ]
  },
  {
   "cell_type": "markdown",
   "metadata": {},
   "source": [
    "The winning probabilities will be (very) small, even for the best ones. So let's use the $\\log(\\,\\cdots\\,)$ of the winning probability as our metric of 'goodness' for a strategy. "
   ]
  },
  {
   "cell_type": "code",
   "execution_count": null,
   "metadata": {
    "collapsed": true
   },
   "outputs": [],
   "source": [
    "def evaluate_perm(perm_list, X):\n",
    "    \"\"\"\n",
    "      Gives log of winning probability of a permutation\n",
    "    \"\"\"\n",
    "    winning_probs = X[np.arange(len(perm_list)), np.array(perm_list)]\n",
    "    return np.sum(np.log(winning_probs))"
   ]
  },
  {
   "cell_type": "code",
   "execution_count": null,
   "metadata": {
    "collapsed": true
   },
   "outputs": [],
   "source": [
    "def team_order_from_perm_list(perm_list, teams):\n",
    "    \"\"\"\n",
    "        takes a list of integers and returns corresponding list of teams\n",
    "    \"\"\"\n",
    "    ## check list 'full'\n",
    "    if( not (sorted(perm_list) == list(range(len(perm_list))))):\n",
    "        raise(ValueError(\"perm_list doesn't contain all integers from 0 to %d\" % (len(perm_list) -1 )))\n",
    "    team_choice = [teams[i] for i in perm_list]\n",
    "    return team_choice"
   ]
  },
  {
   "cell_type": "markdown",
   "metadata": {},
   "source": [
    "## Greedy strategy\n",
    "\n",
    "First of all, let's do the most simple thing we can do: at each time, pick the team out of those you are allowed to with the highest winning probability for that week. We'll call this the *greedy strategy*.\n"
   ]
  },
  {
   "cell_type": "code",
   "execution_count": 169,
   "metadata": {
    "collapsed": true
   },
   "outputs": [],
   "source": [
    "def greedy_strategy(X, teams):\n",
    "    \"\"\"\n",
    "        Given winning probability matrix X returns the \"greedy\" strategy\n",
    "        permutation of teams - given as a list of integers.\n",
    "    \"\"\"\n",
    "    ## Check dims of X ok\n",
    "    num_weeks = X.shape[0]\n",
    "    num_teams = X.shape[1]\n",
    "    if (num_teams != len(teams)):\n",
    "        raise(ValueError(\"X needs to have %d rows, has %d.\" % (num_teams, X.shape[1])))\n",
    "    # generate sample\n",
    "    visited = []\n",
    "    for t in list(range(min(num_teams, num_weeks))):\n",
    "        allowed = [i for i in list(range(num_teams)) if i not in visited]\n",
    "        probs = X[t, allowed] / np.sum(X[t, allowed])\n",
    "        sample = allowed[np.argmax(probs)]\n",
    "        visited.append(sample)\n",
    "    return visited"
   ]
  },
  {
   "cell_type": "code",
   "execution_count": 170,
   "metadata": {},
   "outputs": [
    {
     "name": "stdout",
     "output_type": "stream",
     "text": [
      "{'opt_perm': [17, 1, 0, 6, 7, 3, 12, 13, 5, 16, 15, 18, 14, 2, 11, 8, 4, 9, 19,\n",
      "              10],\n",
      " 'opt_team_list': ['Sunderland', 'Crystal Palace', 'Burnley', 'Southampton',\n",
      "                   'AFC Bournemouth', 'Hull City', 'Stoke City', 'Swansea City',\n",
      "                   'Middlesbrough', 'West Bromwich Albion', 'Watford',\n",
      "                   'West Ham United', 'Tottenham Hotspur', 'Everton',\n",
      "                   'Leicester City', 'Arsenal', 'Manchester City', 'Chelsea',\n",
      "                   'Liverpool', 'Manchester United'],\n",
      " 'opt_value': -20.572731020060896}\n"
     ]
    }
   ],
   "source": [
    "greedy_perm = greedy_strategy(X, teams)\n",
    "greedy_strategy_result = {\"opt_perm\": greedy_perm, \\\n",
    "                          \"opt_value\": evaluate_perm(greedy_perm, X), \\\n",
    "                          \"opt_team_list\": team_order_from_perm_list(greedy_perm, teams)\\\n",
    "                         }\n",
    "pp.pprint(greedy_strategy_result, compact=True)"
   ]
  },
  {
   "cell_type": "markdown",
   "metadata": {},
   "source": [
    "So by our earlier reasoning, any permutation of teams we can find that is higher than `greedy_strategy_result[\"opt_value\"]` is a success!"
   ]
  },
  {
   "cell_type": "markdown",
   "metadata": {},
   "source": [
    "## Greedy sampling strategy"
   ]
  },
  {
   "cell_type": "markdown",
   "metadata": {},
   "source": [
    "Now let's do the second simplest thing we can think of.\n",
    "\n",
    "**Greedy sampling (GS). ** At each timestep $t$, look at the teams that haven't previously been chosen. Choose a team randomly, where the probability is proportional to the odds of that team winning in week $t$.\n",
    "\n",
    "More formally, let $\\mathcal{A}(t)$ be the set of vertices allowed at time $t$, i.e. those that have not been chosen in times $1,2,\\ldots,t-1$. Then,\n",
    "\n",
    "$$\\mathbb{P}\\{ \\text{choose team }j \\text{ at time } t\\} = \\frac{p^{(t)}_j}{\\sum_{k \\in \\mathcal{A}(t)} p^{(t)}_k}. $$\n",
    "\n",
    "Let's try and provide some rough theoretical justification for this method of generating permutations of teams (you can skip this part if you believe me that this is an OK thing to do).\n",
    "\n",
    "---\n",
    "\n",
    "Suppose we have have chosen the permutation $\\sigma = (\\sigma(1), \\sigma(2), \\ldots, \\sigma(n))$ according to the greedy sampling scheme. The probability of choosing this permutation is\n",
    "\n",
    "$$ \\mathbb{P}_{\\sigma \\sim \\text{GS}}(\\sigma) = \\frac{p^{(1)}_{\\sigma(1)}}{\\sum_{k \\in [n]} p^{(1)}_{k}} \\cdot \\frac{p^{(2)}_{\\sigma(2)}}{\\sum_{k \\in [n]\\setminus \\{\\sigma(1)\\}} p^{(2)}_{k}} \\cdot \\frac{p^{(3)}_{\\sigma(3)}}{\\sum_{k \\in [n]\\setminus \\{\\sigma(1), \\sigma(2)\\}} p^{(3)}_{k}} \\cdot \\cdots \\cdot  \\frac{p^{(n-1)}_{\\sigma(n-1)}}{\\sum_{k \\in [n]\\setminus \\{\\sigma(1), \\sigma(2), \\ldots, \\sigma(n-2)\\}} p^{(n-1)}_{k}} \\cdot 1 .$$\n",
    "\n",
    "We then have that\n",
    "\n",
    "$$\\mathbb{P}\\{\\sigma \\text{ wins}\\} = p^{(n)}_{\\sigma(n)} \\cdot \\left( \\sum_{k \\in [n]\\setminus \\{\\sigma(1), \\sigma(2), \\ldots, \\sigma(n-2)\\}} p^{(n-1)}_{k} \\right) \\cdot \\cdots \\cdot \\left( \\sum_{k \\in [n]} p^{(1)}_{k} \\right) \\cdot \\mathbb{P}_{\\sigma \\sim \\text{GS}}(\\sigma). $$\n",
    "\n",
    "Let's consider two permutations $\\sigma_A$ and $\\sigma_B$ and take the ratio of the winning probabilities:\n",
    "\n",
    "$$ \\frac{\\mathbb{P}\\{\\sigma_A \\text{ wins}\\}}{\\mathbb{P}\\{\\sigma_B \\text{ wins}\\}} = \\frac{p^{(n)}_{\\sigma_A(n)} \\cdot \\left( \\sum_{k \\in [n]\\setminus \\{\\sigma_A(1), \\sigma_A(2), \\ldots, \\sigma_A(n-2)\\}} p^{(n-1)}_{k} \\right) \\cdot \\cdots \\cdot \\left( \\sum_{k \\in [n]} p^{(1)}_{k} \\right)}{ \n",
    "p^{(n)}_{\\sigma_B(n)} \\cdot \\left( \\sum_{k \\in [n]\\setminus \\{\\sigma_B(1), \\sigma_B(2), \\ldots, \\sigma_B(n-2)\\}} p^{(n-1)}_{k} \\right) \\cdot \\cdots \\cdot \\left( \\sum_{k \\in [n]} p^{(1)}_{k} \\right)\n",
    "} \\cdot \\frac{\\mathbb{P}_{\\sigma_A \\sim \\text{GS}}(\\sigma_A)}{\\mathbb{P}_{\\sigma_B \\sim \\text{GS}}(\\sigma_B)} $$\n",
    "\n",
    "That's a pretty hairy equation, so let's simplify with a bit of new notation: let $S_\\sigma^{(t)} = [n]\\setminus \\{\\sigma(1), \\sigma(2), \\ldots, \\sigma(t)\\}$ for $t\\in\\{0,1,\\ldots, n\\}$. Just to clarify:\n",
    "\n",
    "$$S^{(n)}_\\sigma = \\emptyset, \\ S^{(n-1)}_\\sigma = \\{ \\sigma(n) \\},\\ \\ldots, \\ S^{1}_\\sigma = [n] \\setminus \\{\\sigma(1)\\},\\ S^{(0)}_\\sigma = [n]$$\n",
    "\n",
    "and $\\left|S^{(t)}_\\sigma\\right| = n-t$. Moreover, let's call the ratio \n",
    "\n",
    "$$ R^{(t)} = \\frac{\\sum_{k\\in S^{(t -1 )}_{\\sigma_A}} p_k^{(t)} } \n",
    "{\\sum_{k\\in S^{(t -1 )}_{\\sigma_B}} p_k^{(t)}} $$\n",
    "\n",
    "for $t \\in \\{1,\\ldots, n\\} $. We can now have the more succinct\n",
    "\n",
    "$$\n",
    "\\frac{\\mathbb{P}\\{\\sigma_A \\text{ wins}\\}}{\\mathbb{P}\\{\\sigma_B \\text{ wins}\\}} = \\prod^{n}_{t=1}R^{(t)} \\cdot \\frac{\\mathbb{P}_{\\sigma_A \\sim \\text{GS}}(\\sigma_A)}{\\mathbb{P}_{\\sigma_B \\sim \\text{GS}}(\\sigma_B)} \n",
    "$$\n",
    "\n",
    "Now for the dodgy bit: let's now assume that we choose the permutations $\\sigma_A, \\sigma_B \\sim \\operatorname{Uni}(\\mathbb{S}_n)$, i.e. uniformly at random; and that the $p^{(i)}_j$ are independent (Assumption 1) and identically distributed on the open interval $(0,1)$. Moreover, define $\\mu = \\mathbb{E}[p^{(i)}_j]$. Let us try and estimate the quantity $\\mathbb{E}\\left[ \\frac{1}{\\prod^{n}_{t=1}R^{(t)}} \\cdot \\frac{\\mathbb{P}\\{\\sigma_A \\text{ wins}\\}}{\\mathbb{P}\\{\\sigma_B \\text{ wins}\\}} \\right]$ as a proxy for the ratio $\\frac{\\mathbb{P}_{\\sigma_A \\sim \\text{GS}}(\\sigma_A)}{\\mathbb{P}_{\\sigma_B \\sim \\text{GS}}(\\sigma_B)}$. We then have\n",
    "\n",
    "\n",
    "$$\\mathbb{E}\\left[ \\frac{1}{\\prod^{n}_{t=1}R^{(t)}} \\cdot \\frac{\\mathbb{P}\\{\\sigma_A \\text{ wins}\\}}{\\mathbb{P}\\{\\sigma_B \\text{ wins}\\}} \\right] = \\mathbb{E}\\left[ \\prod^{n}_{t=1}R^{(t)} \\cdot \\frac{\\mathbb{P}\\{\\sigma_A \\text{ wins}\\}}{\\mathbb{P}\\{\\sigma_B \\text{ wins}\\}} \\right] = \\mathbb{E}\\left[ \\prod^{n}_{t=1}R^{(t)}\\right] \\cdot \\frac{\\mathbb{P}\\{\\sigma_A \\text{ wins}\\}}{\\mathbb{P}\\{\\sigma_B \\text{ wins}\\}}, $$\n",
    "\n",
    "where we obtain the first equality by symmetry and the second from linearity of expectation.\n",
    "\n",
    "\n",
    "Let's now take the expectation value of $\\prod^{n}_{t=1}R^{(t)}$. By linearity of expectation, we have that\n",
    "\n",
    "$$\\mathbb{E} \\left[ \\prod^{n}_{t=1}R^{(t)} \\right] = \\prod^{n}_{t=1} \\mathbb{E} \\left[ R^{(t)}\\right].$$\n",
    "\n",
    "Now, \n",
    "\n",
    "$$ \\mathbb{E} \\left[ R^{(t)}\\right] = \\frac{1}{n!} \\sum_{\\sigma_A \\in \\mathbb{S}_n} \\sum_{k \\in S^{(t)}_{\\sigma_A}} \\mathbb{E}\\left[ p^{(t)}_k \\right] \\cdot \\frac{1}{n!} \\sum_{\\sigma_B \\in \\mathbb{S}_n}\\frac{1}{ \\sum_{k \\in S^{(t)}_{\\sigma_B}} \\mathbb{E}\\left[ p^{(t)}_k \\right]} \\\\\n",
    "= \\frac{1}{n!} \\sum_{\\sigma_A \\in \\mathbb{S}_n} \\sum_{k \\in S^{(t)}_{\\sigma_A}} \\mu \\cdot \\frac{1}{n!} \\sum_{\\sigma_B \\in \\mathbb{S}_n} \\frac{1}{\\sum_{k \\in S^{(t)}_{\\sigma_B}} \\mu} \\\\\n",
    "\\frac{1}{n!} \\sum_{\\sigma_A \\in \\mathbb{S}_n} (n-t) \\mu \\cdot \\frac{1}{n!} \\sum_{\\sigma_B \\in \\mathbb{S}_n} \\frac{1}{(n-t) \\mu} = 1.\n",
    "$$\n",
    "\n",
    "So that means, under some somewhat shaky assumptions, we have\n",
    "\n",
    "$$\n",
    "\\frac{\\mathbb{P}_{\\sigma_A \\sim \\text{GS}}(\\sigma_A)}{\\mathbb{P}_{\\sigma_B \\sim \\text{GS}}(\\sigma_B)} \\approx\n",
    "\\frac{\\mathbb{P}\\{\\sigma_A \\text{ wins}\\}}{\\mathbb{P}\\{\\sigma_B \\text{ wins}\\}} , \n",
    "$$\n",
    "\n",
    "so sampling permutations from the GS distribution hopefully gives us samples somewhat consistent with sampling permutations with probability proportional to their winning probabilities -- that is -- the permutation with the highest winning probability should be sampled with the highest probability according to GS."
   ]
  },
  {
   "cell_type": "code",
   "execution_count": null,
   "metadata": {
    "collapsed": true
   },
   "outputs": [],
   "source": [
    "def greedy_sample(X, teams):\n",
    "    \"\"\"\n",
    "        Given winning probability matrix X returns a \"greedy\" sample\n",
    "        permutation of teams - given as a list of integers.\n",
    "    \"\"\"\n",
    "    ## Check dims of X ok\n",
    "    num_weeks = X.shape[0]\n",
    "    num_teams = X.shape[1]\n",
    "    if (num_teams != len(teams)):\n",
    "        raise(ValueError(\"X needs to have %d rows, has %d.\" % (num_teams, X.shape[1])))\n",
    "    # generate samples\n",
    "    visited = []\n",
    "    for t in list(range(min(num_teams, num_weeks))):\n",
    "        allowed = [i for i in list(range(num_teams)) if i not in visited]\n",
    "        probs = X[t, allowed] / np.sum(X[t, allowed])\n",
    "        sample = np.random.choice(allowed, p=probs)\n",
    "        visited.append(sample)\n",
    "    return visited"
   ]
  },
  {
   "cell_type": "code",
   "execution_count": null,
   "metadata": {
    "collapsed": true
   },
   "outputs": [],
   "source": [
    "greedy_sample(X, teams)"
   ]
  },
  {
   "cell_type": "markdown",
   "metadata": {},
   "source": [
    "### Take many greedy samples and save the best"
   ]
  },
  {
   "cell_type": "code",
   "execution_count": null,
   "metadata": {
    "collapsed": true
   },
   "outputs": [],
   "source": [
    "def greedy_sample_strategy(X, teams, num_iterations):\n",
    "    optimal_sampled_perm = []\n",
    "    optimal_value = -float(\"inf\")\n",
    "    optimal_t = 0\n",
    "    for t in range(num_iterations - 1):\n",
    "        if (t % 1000 == 0):\n",
    "            print(\"Run %d of %d. Current optimal value is %.4f observed at run %d.\" \\\n",
    "                  % (t, num_iterations, optimal_value, optimal_t))\n",
    "        sample = greedy_sample(X, teams)\n",
    "        value = evaluate_perm(sample, X)\n",
    "        if (value > optimal_value):\n",
    "            optimal_value = value\n",
    "            optimal_sampled_perm = sample[:]\n",
    "            optimal_t = t\n",
    "    return optimal_sampled_perm, optimal_value"
   ]
  },
  {
   "cell_type": "code",
   "execution_count": null,
   "metadata": {
    "collapsed": true
   },
   "outputs": [],
   "source": [
    "num_iterations = 1000000\n",
    "greedy_opt_perm, greedy_opt_val = greedy_sample_strategy(X, teams, num_iterations)\n",
    "greedy_sample_result = {\"opt_perm\": greedy_opt_perm, \\\n",
    "                        \"opt_value\": greedy_opt_val, \\\n",
    "                        \"opt_team_list\": team_order_from_perm_list(greedy_opt_perm, teams)\\\n",
    "                       }"
   ]
  },
  {
   "cell_type": "code",
   "execution_count": null,
   "metadata": {
    "collapsed": true,
    "scrolled": true
   },
   "outputs": [],
   "source": [
    "pp.pprint(greedy_sample_result, compact=True)"
   ]
  },
  {
   "cell_type": "markdown",
   "metadata": {},
   "source": [
    "## Simulated Annealing Strategy\n",
    "\n",
    "Common heuristic heuristic strategy for TSP, other combinatorial optimisation algorthms\n",
    "\n",
    "### TODO discuss mixing, burn-in etc\n"
   ]
  },
  {
   "cell_type": "code",
   "execution_count": 162,
   "metadata": {
    "collapsed": true
   },
   "outputs": [],
   "source": [
    "def metropolis_sample(X, teams, burn_in, start_perm, beta):\n",
    "    \"\"\"\n",
    "    Returns a Metropolis-sampled permutation after `burn_in` steps, starting from `start_perm`.\n",
    "    Acceptance probability ratio is winning probability ratio, beta is inverse temperature.\n",
    "    \"\"\"\n",
    "    ## Check dims of X, start_perm ok\n",
    "    num_weeks = X.shape[0]\n",
    "    num_teams = X.shape[1]\n",
    "    if (num_teams != len(teams)):\n",
    "        raise(ValueError(\"X needs to have %d rows, has %d.\" % (num_teams, X.shape[1])))\n",
    "    if( not (sorted(start_perm) == list(range(len(start_perm))))):\n",
    "        raise(ValueError(\"start_perm doesn't contain all integers from 0 to %d\" % (len(start_perm) -1 )))\n",
    "    \n",
    "    out_perm = start_perm[:]\n",
    "    out_val = evaluate_perm(out_perm, X)\n",
    "    for t in range(burn_in):\n",
    "        idx1, idx2 = np.random.choice(len(teams), 2, replace=False)\n",
    "        candidate_perm = out_perm[:]\n",
    "        candidate_perm[idx1], candidate_perm[idx2] = candidate_perm[idx2], candidate_perm[idx1]\n",
    "        candidate_val = evaluate_perm(candidate_perm, X)\n",
    "        ratio = np.exp(candidate_val) / np.exp(out_val)  # evaluate_perm() is log of winnning probability\n",
    "        \n",
    "        accept = False\n",
    "        if (ratio >= 1):\n",
    "            accept = True\n",
    "        else:\n",
    "            accept = np.random.rand() <= np.exp(- beta * ratio)\n",
    "\n",
    "        if (accept):\n",
    "            # print(\"accept\", t, candidate_val, out_val, (np.exp(candidate_val) / np.exp(out_val)), out_perm)\n",
    "            out_perm = candidate_perm[:]\n",
    "            out_val = candidate_val\n",
    "            \n",
    "    return out_perm, out_val        "
   ]
  },
  {
   "cell_type": "code",
   "execution_count": 163,
   "metadata": {
    "collapsed": true
   },
   "outputs": [],
   "source": [
    "def simulated_anneal_sample(X, teams, burn_in, start_perm, beta_i, beta_f, alpha):\n",
    "    \"\"\"\n",
    "    Return a permutation sample according to the simulated annealing algorithm, \n",
    "    starting at inverse temperature `beta_i` and stopping at `beta_f`. Beta geometrically\n",
    "    increases, by a factor `alpha` at each step, `burn_in` runs at each temperature.\n",
    "    \"\"\"\n",
    "    current_perm = start_perm\n",
    "    beta = beta_i\n",
    "    while (beta <= beta_f):\n",
    "        beta = alpha * beta\n",
    "        out_perm, out_val = metropolis_sample(X, teams, burn_in, current_perm, beta)\n",
    "        current_perm = out_perm[:]\n",
    "    return out_perm, out_val    "
   ]
  },
  {
   "cell_type": "code",
   "execution_count": 164,
   "metadata": {
    "collapsed": true
   },
   "outputs": [],
   "source": [
    "def simulated_anneal_sample_strategy(X, teams, burn_in, start_perm, beta_i, beta_f, alpha, num_runs):\n",
    "    \"\"\"\n",
    "    Return the permutation giving the maximum winning probability after `num_samples`\n",
    "    SA samples.\n",
    "    \"\"\"\n",
    "    optimal_perm = start_perm[:]\n",
    "    optimal_val = evaluate_perm(optimal_perm, X)\n",
    "    for t in range(num_runs):\n",
    "        if (t % 5 == 0):\n",
    "            print(\"Run %d of %d. Current optimal value is %.4f.\" \\\n",
    "                  % (t + 1, num_runs, optimal_val))\n",
    "        sample_perm, sample_val = simulated_anneal_sample(X, teams, burn_in, start_perm, beta_i, beta_f, alpha)\n",
    "        if (sample_val > optimal_val):\n",
    "            optimal_val = sample_val\n",
    "            optimal_perm = sample_perm[:]\n",
    "    return optimal_perm, optimal_val    "
   ]
  },
  {
   "cell_type": "code",
   "execution_count": null,
   "metadata": {
    "collapsed": true,
    "scrolled": true
   },
   "outputs": [],
   "source": [
    "# Quick test\n",
    "\n",
    "alpha = 1.03\n",
    "beta_i = 0.1\n",
    "beta_f = 50\n",
    "burn_in = 200\n",
    "start_perm = greedy_perm\n",
    "num_runs = 20\n",
    "\n",
    "SA_opt_perm, SA_opt_val = simulated_anneal_sample_strategy(X, teams, burn_in, stddart_perm, beta_i, beta_f, alpha, num_runs)"
   ]
  },
  {
   "cell_type": "markdown",
   "metadata": {},
   "source": [
    "### Tune the hyperparameters\n",
    "\n",
    "Here we're going to use a very naive method: grid search. Let's fix some of the hyperparameters to sensible values to not have to test too many combinations of values. These include the final inverse temperature $\\beta_f= 50$ and the `burn_in=200`. We'll set $\\beta_f = 50$ because $e^{-50}$ is *tiny* so more or less zero acceptance probability for any transition lowering the energy and `burn_in=200` since it is roughly the number of possible transitions from a given state $n(n-1)/2$. We'll use the greedy stategy as a starting state.\n",
    "\n",
    "We *are* going to vary the initial inverse temperature $\\beta_i$ and the multiplier, $\\alpha$.\n",
    "\n",
    "We'll give each of the $(\\beta_i, \\alpha)$ pairs 25 goes to show us what they're made of. The best pair will then be used for more runs to give us the SA strategy generated permutation. \n",
    "\n"
   ]
  },
  {
   "cell_type": "code",
   "execution_count": null,
   "metadata": {
    "collapsed": true
   },
   "outputs": [],
   "source": [
    "beta_f = 50\n",
    "burn_in = 200\n",
    "start_perm = greedy_perm\n",
    "num_runs = 25\n",
    "\n",
    "alphas = [1.02, 1.05, 1.1, 1.15, 1.2]\n",
    "beta_is = [0.001, 0.005, 0.01, 0.1, 0.2, 0.3, 0.5]\n",
    "\n",
    "SA_hyperparam_results = pd.DataFrame(columns = ['alpha', 'beta_i', 'SA_opt_val', 'SA_opt_perm'])\n",
    "\n",
    "for alpha, beta_i in itertools.product(alphas, beta_is):\n",
    "    print(\"Testing alpha = %.3f, beta_i = %.4f \" % (alpha, beta_i))\n",
    "    SA_opt_perm, SA_opt_val = \\\n",
    "            simulated_anneal_sample_strategy(X, teams, burn_in, start_perm, beta_i, beta_f, alpha, num_runs)\n",
    "    SA_hyperparam_results = SA_hyperparam_results.append({'alpha': alpha, 'beta_i': beta_i, 'SA_opt_val': SA_opt_val, 'SA_opt_perm': SA_opt_perm},\\\n",
    "                                ignore_index=True)    "
   ]
  },
  {
   "cell_type": "code",
   "execution_count": null,
   "metadata": {
    "collapsed": true
   },
   "outputs": [],
   "source": [
    "SA_hyperparam_results.iloc[SA_hyperparam_results['SA_opt_val'].idxmax()]"
   ]
  },
  {
   "cell_type": "code",
   "execution_count": 165,
   "metadata": {},
   "outputs": [
    {
     "name": "stdout",
     "output_type": "stream",
     "text": [
      "Run 1 of 200. Current optimal value is -20.5727.\n",
      "Run 6 of 200. Current optimal value is -19.5195.\n",
      "Run 11 of 200. Current optimal value is -19.5195.\n",
      "Run 16 of 200. Current optimal value is -19.5195.\n",
      "Run 21 of 200. Current optimal value is -19.4908.\n",
      "Run 26 of 200. Current optimal value is -19.4908.\n",
      "Run 31 of 200. Current optimal value is -19.4908.\n",
      "Run 36 of 200. Current optimal value is -19.4908.\n",
      "Run 41 of 200. Current optimal value is -19.4908.\n",
      "Run 46 of 200. Current optimal value is -19.4908.\n",
      "Run 51 of 200. Current optimal value is -19.4908.\n",
      "Run 56 of 200. Current optimal value is -19.4908.\n",
      "Run 61 of 200. Current optimal value is -19.4908.\n",
      "Run 66 of 200. Current optimal value is -19.4908.\n",
      "Run 71 of 200. Current optimal value is -19.4908.\n",
      "Run 76 of 200. Current optimal value is -19.4908.\n",
      "Run 81 of 200. Current optimal value is -19.4786.\n",
      "Run 86 of 200. Current optimal value is -19.4786.\n",
      "Run 91 of 200. Current optimal value is -19.4786.\n",
      "Run 96 of 200. Current optimal value is -19.4786.\n",
      "Run 101 of 200. Current optimal value is -19.4786.\n",
      "Run 106 of 200. Current optimal value is -19.4786.\n",
      "Run 111 of 200. Current optimal value is -19.4786.\n",
      "Run 116 of 200. Current optimal value is -19.4786.\n",
      "Run 121 of 200. Current optimal value is -19.4786.\n",
      "Run 126 of 200. Current optimal value is -19.4786.\n",
      "Run 131 of 200. Current optimal value is -19.4786.\n",
      "Run 136 of 200. Current optimal value is -19.4786.\n",
      "Run 141 of 200. Current optimal value is -19.4786.\n",
      "Run 146 of 200. Current optimal value is -19.4786.\n",
      "Run 151 of 200. Current optimal value is -19.4786.\n",
      "Run 156 of 200. Current optimal value is -19.4786.\n",
      "Run 161 of 200. Current optimal value is -19.4786.\n",
      "Run 166 of 200. Current optimal value is -19.4786.\n",
      "Run 171 of 200. Current optimal value is -19.4786.\n",
      "Run 176 of 200. Current optimal value is -19.4786.\n",
      "Run 181 of 200. Current optimal value is -19.4786.\n",
      "Run 186 of 200. Current optimal value is -19.4786.\n",
      "Run 191 of 200. Current optimal value is -19.4786.\n",
      "Run 196 of 200. Current optimal value is -19.4786.\n"
     ]
    }
   ],
   "source": [
    "beta_f = 50\n",
    "burn_in = 200\n",
    "start_perm = greedy_perm\n",
    "num_runs = 200\n",
    "alpha = 1.1\n",
    "beta_i = 0.01\n",
    "\n",
    "SA_opt_perm, SA_opt_val = \\\n",
    "        simulated_anneal_sample_strategy(X, teams, burn_in, start_perm, beta_i, beta_f, alpha, num_runs)"
   ]
  },
  {
   "cell_type": "code",
   "execution_count": 166,
   "metadata": {},
   "outputs": [
    {
     "name": "stdout",
     "output_type": "stream",
     "text": [
      "{'opt_perm': [17, 6, 19, 4, 7, 3, 13, 2, 10, 11, 5, 18, 14, 9, 16, 15, 8, 12, 1,\n",
      "              0],\n",
      " 'opt_team_list': ['Sunderland', 'Southampton', 'Liverpool', 'Manchester City',\n",
      "                   'AFC Bournemouth', 'Hull City', 'Swansea City', 'Everton',\n",
      "                   'Manchester United', 'Leicester City', 'Middlesbrough',\n",
      "                   'West Ham United', 'Tottenham Hotspur', 'Chelsea',\n",
      "                   'West Bromwich Albion', 'Watford', 'Arsenal', 'Stoke City',\n",
      "                   'Crystal Palace', 'Burnley'],\n",
      " 'opt_value': -19.478594649449015}\n"
     ]
    }
   ],
   "source": [
    "SA_sample_result = {\"opt_perm\": SA_opt_perm, \\\n",
    "                    \"opt_value\": SA_opt_val, \\\n",
    "                    \"opt_team_list\": team_order_from_perm_list(SA_opt_perm, teams)\\\n",
    "                    }\n",
    "pp.pprint(SA_sample_result, compact=True)"
   ]
  },
  {
   "cell_type": "markdown",
   "metadata": {},
   "source": [
    "## Convex Programming Strategy\n",
    "\n",
    "### Theory\n",
    "\n",
    "Let $\\widetilde{X}$ be the matrix with entries given by\n",
    "\n",
    "$$[\\widetilde{X}]_{i,j} = \\ln X_{i,j} = \\ln p^{(i)}_j$$\n",
    "\n",
    "Now consider the optimisation problem\n",
    "\n",
    "$$\\max_{\\sigma \\in \\mathbb{S}_n} \\operatorname{Tr}(P_{\\sigma} \\widetilde{X} ), \\tag{$\\mathsf{X}$}$$\n",
    "\n",
    "where $P_\\sigma$ is the *permutation matrix* assoiated to the permutation $\\sigma$, with elements $[P_\\sigma]_{i,j} = \\delta^{\\sigma(i)}_j$. We'll call this problem $\\mathsf{X}$ with optimal value $\\operatorname{OPT}(\\mathsf{X})$.\n",
    "\n",
    "The solution to $\\mathsf{X}$ is also the permutation with maximum winning probability! Why?\n",
    "\n",
    "$$\\operatorname{Tr}(P_{\\sigma} \\widetilde{X} ) = \\sum_{i,j} [P_{\\sigma}]_{i,j}  [\\widetilde{X}]_{i,j} = \\sum_{i,j} \\delta^{\\sigma(i)}_j \\ln p^{(i)}_j = \\sum_i \\ln p^{(i)}_{\\sigma(i)} = \\ln \\left( \\prod_i  p^{(i)}_{\\sigma(i)} \\right) = \\ln \\left( \\mathbb{P}(\\sigma \\text{ wins}) \\right).$$\n",
    "\n",
    "Since $\\ln(\\,\\cdot\\,)$ is a monotonic function, maximising $\\ln \\left( \\prod_i  p^{(i)}_{\\sigma(i)} \\right)$ maximises $\\prod_i  p^{(i)}_{\\sigma(i)} = \\mathbb{P}(\\sigma \\text{ wins})$.\n",
    "\n",
    "\"So what?\" one might think -- we still have a search space of permutations on $n$ elements with size $n!$ -- all we've done is rewrite the original problem using matrices. However, writing the problem this way suggests a new means of attack.\n",
    "\n",
    "Let's try taking the convex relaxation of $\\mathsf{X}$, calling it $\\mathsf{convX}$:\n",
    "\n",
    "$$\\max_{P \\in \\mathcal{B}_n} \\operatorname{Tr}(P \\widetilde{X} ), \\tag{$\\mathsf{convX}$}$$\n",
    "\n",
    "We have a new object here, $\\mathcal{B}_n$, which is known as the [*Birkhoff polytope*](https://en.wikipedia.org/wiki/Birkhoff_polytope). It is the convex hull of all $n \\times n$ permutation matrices. This means that every $P\\in \\mathcal{B}_n$ is a *doubly-stochastic matrix*, a matrix where every element $[P_{i,j}]\\in[0,1]$ and all of its rows and columns sum to $1$.\n",
    "\n",
    "Let's think about $\\mathsf{convX}$ for a second here: we are optimising a linear function of nonnegative real variables subject to linear constraints; this is just a linear program! We can leverage the theory and algorithms for solving linear programs to help us find a good solution to $\\mathsf{X}$.\n",
    "\n",
    "**Theorem.** *There is an optimal solution to $\\mathsf{convX}$. Moreover, there is an optimal solution at an extreme point of $\\mathcal{B}_n$.*\n",
    "\n",
    "*Proof.* The set $\\mathcal{B}_n$ is compact and $\\mathsf{convX}$ is a maximisation problem over $\\mathcal{B}_n$, so there is a solution to $\\mathsf{convX}$, call it $P^\\star$. We can write $P^\\star = \\sum_{\\sigma \\in \\mathbb{S}_n}\\alpha^\\star_\\sigma P_\\sigma$ from the definition of $\\mathcal{B}_n$, where $\\alpha^\\star_\\sigma \\in [0,1]$ and $\\sum_{\\sigma \\in \\mathbb{S}_n} \\alpha^\\star_\\sigma = 1$. By linearity we have $\\operatorname{OPT}(\\mathsf{convX}) = \\operatorname{Tr}(P^\\star \\widetilde{X}) = \\sum_{\\sigma \\in \\mathbb{S}_n} \\alpha^\\star_\\sigma \\operatorname{Tr}(P_\\sigma \\widetilde{X})$. \n",
    "There is no $\\sigma \\in \\mathbb{S}_n$ such that $\\operatorname{Tr}(P_\\sigma \\widetilde{X}) > \\operatorname{OPT}(\\mathsf{convX})$, otherwise $P^\\star$ is not optimal. Now, consider the set $S^\\star = \\left\\{\\sigma \\in \\mathbb{S}_n \\, \\middle| \\, \\operatorname{Tr}(P_\\sigma \\widetilde{X}) = \\operatorname{OPT}(\\mathsf{convX}) \\right\\}$. The set $S^\\star$ is non-empty from the following: suppose $S^\\star = \\emptyset$. Then, $P^\\star$ is a convex sum of terms $P_\\sigma$ where each $\\operatorname{Tr}(P_\\sigma \\widetilde{X}) < \\operatorname{OPT}(\\mathsf{convX})$, giving $\\operatorname{Tr}(P^\\star\\widetilde{X}) < \\operatorname{OPT}(\\mathsf{convX})$ from linearity; but $\\operatorname{OPT}(\\mathsf{convX}) = \\operatorname{Tr}(P^\\star \\widetilde{X})$ by definition. Thus we have that $P^\\star = \\sum_{\\sigma \\in S^\\star}\\alpha^\\star_\\sigma P_\\sigma$, where $\\alpha^\\star_\\sigma \\in [0,1]$ and $\\sum_{\\sigma \\in S^\\star} \\alpha^\\star_\\sigma = 1$. Clearly, any $P_\\sigma$ for $\\sigma \\in S^\\star$ is an optimal solution to $\\mathsf{convX}$ and also an extreme point of $\\mathcal{B}_n$, by definition.\n",
    "\n",
    "\n",
    "**Corollary.** $\\operatorname{OPT}(\\mathsf{X}) = \\operatorname{OPT}(\\mathsf{convX})$.\n",
    "\n",
    "This is great news! We can find an extremal solution to $\\mathsf{convX}$ and we will get the solution to $\\mathsf{X}$ -- an optimal permutation. Since $\\mathsf{convX}$ is a linear program we can solve it quickly. Moreover, typical LP solvers usually search through extreme points and give them as a solution, so we will most likely not need to work hard to project the returned $P^\\star$ to the nearest extreme point of $\\mathcal{B}_n$."
   ]
  },
  {
   "cell_type": "markdown",
   "metadata": {},
   "source": [
    "### Implementation"
   ]
  },
  {
   "cell_type": "code",
   "execution_count": 172,
   "metadata": {},
   "outputs": [
    {
     "name": "stdout",
     "output_type": "stream",
     "text": [
      "status: optimal\n",
      "optimal value -19.456730722494175\n"
     ]
    }
   ],
   "source": [
    "X_tilde = np.log(X)[0:len(teams), 0:len(teams)]\n",
    "\n",
    "P = cvx.Variable(*X_tilde.shape)\n",
    "W = cvx.Parameter(*X_tilde.shape, sign=\"negative\")\n",
    "W.value = X_tilde\n",
    "obj = cvx.Maximize(cvx.trace(W*P))\n",
    "\n",
    "constraints = [0 <= P, P <= 1]\n",
    "\n",
    "col_sums = cvx.sum_entries(P, axis=0) \n",
    "row_sums = cvx.sum_entries(P, axis=1)\n",
    "\n",
    "for col_sum in col_sums:\n",
    "    constraints += [col_sum == 1]\n",
    "\n",
    "for row_sum in row_sums:\n",
    "    constraints += [row_sum == 1]\n",
    "\n",
    "prob = cvx.Problem(obj, constraints)\n",
    "prob.solve()\n",
    "\n",
    "print(\"status:\", prob.status)\n",
    "print(\"optimal value\", prob.value)"
   ]
  },
  {
   "cell_type": "code",
   "execution_count": 160,
   "metadata": {},
   "outputs": [
    {
     "data": {
      "image/png": "[encoded data removed]",
      "text/plain": [
       "<matplotlib.figure.Figure at 0x1812bc4a20>"
      ]
     },
     "metadata": {
      "image/png": {
       "height": 280,
       "width": 678
      }
     },
     "output_type": "display_data"
    }
   ],
   "source": [
    "from matplotlib.colors import LogNorm\n",
    "\n",
    "plt.figure(figsize=(12, 4))\n",
    "plt.subplot(1, 2, 1)\n",
    "plt.matshow(P.value.T, cmap=\"binary\", fignum=0)\n",
    "plt.colorbar();\n",
    "plt.title(\"optimal $P$\\n\");\n",
    "\n",
    "plt.subplot(1, 2, 2)\n",
    "plt.matshow(P.value.T, cmap=\"binary\", fignum=0, norm=LogNorm(vmin=1e-12, vmax=1))\n",
    "plt.colorbar();\n",
    "plt.title(\"optimal $P$, log scale\\n\");"
   ]
  },
  {
   "cell_type": "code",
   "execution_count": 131,
   "metadata": {},
   "outputs": [
    {
     "name": "stdout",
     "output_type": "stream",
     "text": [
      "{'opt_perm': [17, 6, 18, 4, 19, 3, 12, 13, 10, 11, 2, 1, 14, 9, 16, 15, 8, 7, 5,\n",
      "              0],\n",
      " 'opt_team_list': ['Sunderland', 'Southampton', 'West Ham United',\n",
      "                   'Manchester City', 'Liverpool', 'Hull City', 'Stoke City',\n",
      "                   'Swansea City', 'Manchester United', 'Leicester City',\n",
      "                   'Everton', 'Crystal Palace', 'Tottenham Hotspur', 'Chelsea',\n",
      "                   'West Bromwich Albion', 'Watford', 'Arsenal',\n",
      "                   'AFC Bournemouth', 'Middlesbrough', 'Burnley'],\n",
      " 'opt_value': -19.45673066562512}\n"
     ]
    }
   ],
   "source": [
    "rounded = np.rint(np.asarray(P.value.T))\n",
    "\n",
    "# check if permutation\n",
    "assert(np.all(np.sum(rounded, 0)) == True)\n",
    "assert(np.all(np.sum(rounded, 1)) == True)\n",
    "\n",
    "# convert permutation matrix to perm_list\n",
    "cvx_opt_perm = list(np.where(rounded == 1)[1])\n",
    "\n",
    "cvx_result = {\"opt_perm\": cvx_opt_perm, \\\n",
    "              \"opt_value\": evaluate_perm(cvx_opt_perm, X), \\\n",
    "              \"opt_team_list\": team_order_from_perm_list(cvx_opt_perm, teams) \\\n",
    "              }\n",
    "\n",
    "pp.pprint(cvx_result, compact=True)"
   ]
  },
  {
   "cell_type": "code",
   "execution_count": null,
   "metadata": {
    "collapsed": true
   },
   "outputs": [],
   "source": []
  }
 ],
 "metadata": {
  "kernelspec": {
   "display_name": "Python 3",
   "language": "python",
   "name": "python3"
  },
  "language_info": {
   "codemirror_mode": {
    "name": "ipython",
    "version": 3
   },
   "file_extension": ".py",
   "mimetype": "text/x-python",
   "name": "python",
   "nbconvert_exporter": "python",
   "pygments_lexer": "ipython3",
   "version": "3.5.4"
  }
 },
 "nbformat": 4,
 "nbformat_minor": 2
}
