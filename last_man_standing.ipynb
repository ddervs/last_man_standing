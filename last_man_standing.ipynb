{
 "cells": [
  {
   "cell_type": "markdown",
   "metadata": {},
   "source": [
    "# Last Man Standing"
   ]
  },
  {
   "cell_type": "code",
   "execution_count": null,
   "metadata": {},
   "outputs": [],
   "source": [
    "%matplotlib inline\n",
    "%config InlineBackend.figure_format = 'retina'\n",
    "\n",
    "import footballdata as foo\n",
    "import matplotlib.pyplot as plt\n",
    "import numpy as np\n",
    "np.random.seed(1234)\n",
    "import pandas as pd\n",
    "import itertools\n",
    "import cvxpy as cvx\n",
    "\n",
    "from matplotlib.pyplot import figure, show\n",
    "import pprint as pp"
   ]
  },
  {
   "cell_type": "code",
   "execution_count": null,
   "metadata": {},
   "outputs": [],
   "source": [
    "print(foo.MatchHistory.__doc__)"
   ]
  },
  {
   "cell_type": "code",
   "execution_count": null,
   "metadata": {},
   "outputs": [],
   "source": [
    "foo.MatchHistory.available_leagues()"
   ]
  },
  {
   "cell_type": "code",
   "execution_count": null,
   "metadata": {},
   "outputs": [],
   "source": [
    "prem = foo.MatchHistory('ENG-Premier League', range(2016, 2017)).read_games()\n",
    "prem.sample(5)"
   ]
  },
  {
   "cell_type": "code",
   "execution_count": null,
   "metadata": {},
   "outputs": [],
   "source": [
    "print(list(prem)) # columns of DataFrame"
   ]
  },
  {
   "cell_type": "markdown",
   "metadata": {},
   "source": [
    "#### TODO check correct formula and explain going from odds $\\rightarrow$ prob"
   ]
  },
  {
   "cell_type": "code",
   "execution_count": null,
   "metadata": {
    "collapsed": true
   },
   "outputs": [],
   "source": [
    "# odds are typically given for home team\n",
    "def probs_from_odds(odds_win, odds_draw, odds_lose):\n",
    "    prob_win, prob_draw, prob_lose = \\\n",
    "        map(lambda odds: odds / (1 + odds) , [odds_win, odds_draw, odds_lose])\n",
    "    vig = prob_win + prob_draw + prob_lose - 1 # bookie's cut\n",
    "    prob_win_normed, prob_draw_normed, prob_lose_normed = \\\n",
    "        map(lambda prob: prob / (1 + vig) , [prob_win, prob_draw, prob_lose])\n",
    "    return prob_win_normed, prob_draw_normed, prob_lose_normed"
   ]
  },
  {
   "cell_type": "code",
   "execution_count": null,
   "metadata": {},
   "outputs": [],
   "source": [
    "probs_from_odds(3.10, 3.30, 2.50)"
   ]
  },
  {
   "cell_type": "code",
   "execution_count": null,
   "metadata": {},
   "outputs": [],
   "source": [
    "# Check seasons\n",
    "prem_index = prem.index.get_values()\n",
    "set([idx[1] for idx in prem_index])"
   ]
  },
  {
   "cell_type": "code",
   "execution_count": null,
   "metadata": {},
   "outputs": [],
   "source": [
    "teams = list(prem.home_team.unique())\n",
    "num_teams = len(teams)\n",
    "print(teams)"
   ]
  },
  {
   "cell_type": "markdown",
   "metadata": {
    "collapsed": true
   },
   "source": [
    "## Winning probabilities matrix\n",
    "\n",
    "What we want now is the matrix $X\\in [0,1]^{38 \\times 20}$, with elements defined by\n",
    "\n",
    "$$X_{i,j} := p^{(i)}_j = \\text{probability that team }j\\text{ wins in week }i.$$"
   ]
  },
  {
   "cell_type": "markdown",
   "metadata": {},
   "source": [
    "#### TODO Refactor to take odds from different bookies, maybe in `prob_from_odds`"
   ]
  },
  {
   "cell_type": "code",
   "execution_count": null,
   "metadata": {
    "collapsed": true,
    "scrolled": false
   },
   "outputs": [],
   "source": [
    "num_teams = len(teams)\n",
    "X = np.zeros( (2 * (num_teams - 1), num_teams))\n",
    "X_index = np.empty((2 * (num_teams - 1), num_teams), dtype=object)\n",
    "games_played_by_team = np.zeros(len(teams), dtype=int) # array keeps track of how many games each team has played\n",
    "\n",
    "for index, row in prem.iterrows():\n",
    "    j_home = teams.index(row[\"home_team\"])\n",
    "    j_away = teams.index(row[\"away_team\"])\n",
    "    i_home = games_played_by_team[j_home]\n",
    "    i_away = games_played_by_team[j_away]\n",
    "    home_prob, draw_prob, away_prob = probs_from_odds(row[\"B365H\"], row[\"B365D\"], row[\"B365A\"])\n",
    "    X[i_home, j_home] = home_prob\n",
    "    X[i_away, j_away] = away_prob\n",
    "    X_index[i_home, j_home] = index\n",
    "    X_index[i_away, j_away] = index\n",
    "    games_played_by_team[j_home] += 1\n",
    "    games_played_by_team[j_away] += 1\n",
    "    "
   ]
  },
  {
   "cell_type": "code",
   "execution_count": null,
   "metadata": {},
   "outputs": [],
   "source": [
    "print(np.where(X == 0))"
   ]
  },
  {
   "cell_type": "code",
   "execution_count": null,
   "metadata": {},
   "outputs": [],
   "source": [
    "print(X[24,5])\n",
    "print(X_index[24,5])\n",
    "game = prem.loc[X_index[24,5]]\n",
    "home_prob, draw_prob, away_prob = probs_from_odds(game[\"B365H\"], game[\"B365D\"], game[\"B365A\"])\n",
    "print(home_prob, draw_prob, away_prob)"
   ]
  },
  {
   "cell_type": "markdown",
   "metadata": {},
   "source": [
    "The winning probabilities will be (very) small, even for the best ones. So let's use the $\\log(\\,\\cdots\\,)$ of the winning probability as our metric of 'goodness' for a strategy. "
   ]
  },
  {
   "cell_type": "code",
   "execution_count": null,
   "metadata": {
    "collapsed": true
   },
   "outputs": [],
   "source": [
    "def evaluate_perm(perm_list, X):\n",
    "    \"\"\"\n",
    "      Gives log of winning probability of a permutation\n",
    "    \"\"\"\n",
    "    winning_probs = X[np.arange(len(perm_list)), np.array(perm_list)]\n",
    "    return np.sum(np.log(winning_probs))"
   ]
  },
  {
   "cell_type": "code",
   "execution_count": null,
   "metadata": {
    "collapsed": true
   },
   "outputs": [],
   "source": [
    "def team_order_from_perm_list(perm_list, teams):\n",
    "    \"\"\"\n",
    "        takes a list of integers and returns corresponding list of teams\n",
    "    \"\"\"\n",
    "    ## check list 'full'\n",
    "    if( not (sorted(perm_list) == list(range(len(perm_list))))):\n",
    "        raise(ValueError(\"perm_list doesn't contain all integers from 0 to %d\" % (len(perm_list) -1 )))\n",
    "    team_choice = [teams[i] for i in perm_list]\n",
    "    return team_choice"
   ]
  },
  {
   "cell_type": "markdown",
   "metadata": {},
   "source": [
    "## Greedy strategy\n",
    "\n",
    "First of all, let's do the most simple thing we can do: at each time, pick the team out of those you are allowed to with the highest winning probability for that week. We'll call this the *greedy strategy*.\n"
   ]
  },
  {
   "cell_type": "code",
   "execution_count": null,
   "metadata": {
    "collapsed": true
   },
   "outputs": [],
   "source": [
    "def greedy_strategy(X, teams):\n",
    "    \"\"\"\n",
    "        Given winning probability matrix X returns the \"greedy\" strategy\n",
    "        permutation of teams - given as a list of integers.\n",
    "    \"\"\"\n",
    "    ## Check dims of X ok\n",
    "    num_weeks = X.shape[0]\n",
    "    num_teams = X.shape[1]\n",
    "    if (num_teams != len(teams)):\n",
    "        raise(ValueError(\"X needs to have %d rows, has %d.\" % (num_teams, X.shape[1])))\n",
    "    # generate sample\n",
    "    visited = []\n",
    "    for t in list(range(min(num_teams, num_weeks))):\n",
    "        allowed = [i for i in list(range(num_teams)) if i not in visited]\n",
    "        probs = X[t, allowed] / np.sum(X[t, allowed])\n",
    "        sample = allowed[np.argmax(probs)]\n",
    "        visited.append(sample)\n",
    "    return visited"
   ]
  },
  {
   "cell_type": "code",
   "execution_count": null,
   "metadata": {},
   "outputs": [],
   "source": [
    "greedy_perm = greedy_strategy(X, teams)\n",
    "greedy_strategy_result = {\"opt_perm\": greedy_perm, \\\n",
    "                          \"opt_value\": evaluate_perm(greedy_perm, X), \\\n",
    "                          \"opt_team_list\": team_order_from_perm_list(greedy_perm, teams)\\\n",
    "                         }\n",
    "pp.pprint(greedy_strategy_result, compact=True)"
   ]
  },
  {
   "cell_type": "markdown",
   "metadata": {},
   "source": [
    "So by our earlier reasoning, any permutation of teams we can find that is higher than `greedy_strategy_result[\"opt_value\"]` is a success!"
   ]
  },
  {
   "cell_type": "markdown",
   "metadata": {},
   "source": [
    "## Greedy sampling strategy"
   ]
  },
  {
   "cell_type": "markdown",
   "metadata": {},
   "source": [
    "Now let's do the second simplest thing we can think of.\n",
    "\n",
    "**Greedy sampling (GS). ** At each timestep $t$, look at the teams that haven't previously been chosen. Choose a team randomly, where the probability is weighted by the odds of that team winning in week $t$.\n",
    "\n",
    "More formally, let $\\mathcal{A}(t)$ be the set of vertices allowed at time $t$, i.e. those that have not been chosen in times $1,2,\\ldots,t-1$. Then,\n",
    "\n",
    "$$\\mathbb{P}\\{ \\text{choose team }j \\text{ at time } t\\} = \\frac{p^{(t)}_j}{\\sum_{k \\in \\mathcal{A}(t)} p^{(t)}_k}. $$\n",
    "\n",
    "Let's try and provide some rough theoretical justification for this method of generating permutations of teams (you can skip this part if you believe me that this is an OK thing to do).\n",
    "\n",
    "---\n",
    "\n",
    "Suppose we have have chosen the permutation $\\sigma = (\\sigma(1), \\sigma(2), \\ldots, \\sigma(n))$ according to the greedy sampling scheme. The probability of choosing this permutation is\n",
    "\n",
    "$$ \\mathbb{P}_{\\sigma \\sim \\text{GS}}(\\sigma) = \\frac{p^{(1)}_{\\sigma(1)}}{\\sum_{k \\in [n]} p^{(1)}_{k}} \\cdot \\frac{p^{(2)}_{\\sigma(2)}}{\\sum_{k \\in [n]\\setminus \\{\\sigma(1)\\}} p^{(2)}_{k}} \\cdot \\frac{p^{(3)}_{\\sigma(3)}}{\\sum_{k \\in [n]\\setminus \\{\\sigma(1), \\sigma(2)\\}} p^{(3)}_{k}} \\cdot \\cdots \\cdot  \\frac{p^{(n-1)}_{\\sigma(n-1)}}{\\sum_{k \\in [n]\\setminus \\{\\sigma(1), \\sigma(2), \\ldots, \\sigma(n-2)\\}} p^{(n-1)}_{k}} \\cdot 1 .$$\n",
    "\n",
    "We then have that\n",
    "\n",
    "$$\\mathbb{P}\\{\\sigma \\text{ wins}\\} = p^{(n)}_{\\sigma(n)} \\cdot \\left( \\sum_{k \\in [n]\\setminus \\{\\sigma(1), \\sigma(2), \\ldots, \\sigma(n-2)\\}} p^{(n-1)}_{k} \\right) \\cdot \\cdots \\cdot \\left( \\sum_{k \\in [n]} p^{(1)}_{k} \\right) \\cdot \\mathbb{P}_{\\sigma \\sim \\text{GS}}(\\sigma). $$\n",
    "\n",
    "Let's consider two permutations $\\sigma_A$ and $\\sigma_B$ and take the ratio of the winning probabilities:\n",
    "\n",
    "$$ \\frac{\\mathbb{P}\\{\\sigma_A \\text{ wins}\\}}{\\mathbb{P}\\{\\sigma_B \\text{ wins}\\}} = \\frac{p^{(n)}_{\\sigma_A(n)} \\cdot \\left( \\sum_{k \\in [n]\\setminus \\{\\sigma_A(1), \\sigma_A(2), \\ldots, \\sigma_A(n-2)\\}} p^{(n-1)}_{k} \\right) \\cdot \\cdots \\cdot \\left( \\sum_{k \\in [n]} p^{(1)}_{k} \\right)}{ \n",
    "p^{(n)}_{\\sigma_B(n)} \\cdot \\left( \\sum_{k \\in [n]\\setminus \\{\\sigma_B(1), \\sigma_B(2), \\ldots, \\sigma_B(n-2)\\}} p^{(n-1)}_{k} \\right) \\cdot \\cdots \\cdot \\left( \\sum_{k \\in [n]} p^{(1)}_{k} \\right)\n",
    "} \\cdot \\frac{\\mathbb{P}_{\\sigma_A \\sim \\text{GS}}(\\sigma_A)}{\\mathbb{P}_{\\sigma_B \\sim \\text{GS}}(\\sigma_B)} $$\n",
    "\n",
    "That's a pretty hairy equation, so let's simplify with a bit of new notation: let $S_\\sigma^{(t)} = [n]\\setminus \\{\\sigma(1), \\sigma(2), \\ldots, \\sigma(t)\\}$ for $t\\in\\{0,1,\\ldots, n\\}$. Just to clarify:\n",
    "\n",
    "$$S^{(n)}_\\sigma = \\emptyset, \\ S^{(n-1)}_\\sigma = \\{ \\sigma(n) \\},\\ \\ldots, \\ S^{1}_\\sigma = [n] \\setminus \\{\\sigma(1)\\},\\ S^{(0)}_\\sigma = [n]$$\n",
    "\n",
    "and $\\left|S^{(t)}_\\sigma\\right| = n-t$.\n",
    "\n",
    "Moreover, let's call the ratio \n",
    "\n",
    "$$ R^{(t)} = \\frac{\\sum_{k\\in S^{(t -1 )}_{\\sigma_A}} p_k^{(t)} } \n",
    "{\\sum_{k\\in S^{(t -1 )}_{\\sigma_B}} p_k^{(t)}} $$\n",
    "\n",
    "for $t \\in \\{1,\\ldots, n\\} $. We can now have the more succinct\n",
    "\n",
    "$$\n",
    "\\frac{\\mathbb{P}\\{\\sigma_A \\text{ wins}\\}}{\\mathbb{P}\\{\\sigma_B \\text{ wins}\\}} = \\prod^{n}_{t=1}R^{(t)} \\cdot \\frac{\\mathbb{P}_{\\sigma_A \\sim \\text{GS}}(\\sigma_A)}{\\mathbb{P}_{\\sigma_B \\sim \\text{GS}}(\\sigma_B)} \n",
    "$$\n",
    "\n",
    "Now for the dodgy bit: let's now assume that we choose the permutations $\\sigma_A, \\sigma_B \\sim \\operatorname{Uni}(\\mathbb{S}_n)$, i.e. uniformly at random; and that the $p^{(i)}_j$ are independent and identically distributed on the open interval $(0,1)$. Moreover, define $\\mu = \\mathbb{E}[p^{(i)}_j]$. Let us try and estimate the quantity $\\mathbb{E}\\left[ \\frac{1}{\\prod^{n}_{t=1}R^{(t)}} \\cdot \\frac{\\mathbb{P}\\{\\sigma_A \\text{ wins}\\}}{\\mathbb{P}\\{\\sigma_B \\text{ wins}\\}} \\right]$ as a proxy for the ratio $\\frac{\\mathbb{P}_{\\sigma_A \\sim \\text{GS}}(\\sigma_A)}{\\mathbb{P}_{\\sigma_B \\sim \\text{GS}}(\\sigma_B)}$. We then have\n",
    "\n",
    "\n",
    "$$\\mathbb{E}\\left[ \\frac{1}{\\prod^{n}_{t=1}R^{(t)}} \\cdot \\frac{\\mathbb{P}\\{\\sigma_A \\text{ wins}\\}}{\\mathbb{P}\\{\\sigma_B \\text{ wins}\\}} \\right] = \\mathbb{E}\\left[ \\prod^{n}_{t=1}R^{(t)} \\cdot \\frac{\\mathbb{P}\\{\\sigma_A \\text{ wins}\\}}{\\mathbb{P}\\{\\sigma_B \\text{ wins}\\}} \\right] = \\mathbb{E}\\left[ \\prod^{n}_{t=1}R^{(t)}\\right] \\cdot \\frac{\\mathbb{P}\\{\\sigma_A \\text{ wins}\\}}{\\mathbb{P}\\{\\sigma_B \\text{ wins}\\}}, $$\n",
    "\n",
    "where we obtain the first equality by symmetry and the second from linearity of expectation.\n",
    "\n",
    "\n",
    "Let's now take the expectation value of $\\prod^{n}_{t=1}R^{(t)}$. By linearity of expectation, we have that\n",
    "\n",
    "$$\\mathbb{E} \\left[ \\prod^{n}_{t=1}R^{(t)} \\right] = \\prod^{n}_{t=1} \\mathbb{E} \\left[ R^{(t)}\\right].$$\n",
    "\n",
    "Now, \n",
    "\n",
    "$$ \\mathbb{E} \\left[ R^{(t)}\\right] = \\frac{1}{n!} \\sum_{\\sigma_A \\in \\mathbb{S}_n} \\sum_{k \\in S^{(t)}_{\\sigma_A}} \\mathbb{E}\\left[ p^{(t)}_k \\right] \\cdot \\frac{1}{n!} \\sum_{\\sigma_B \\in \\mathbb{S}_n}\\frac{1}{ \\sum_{k \\in S^{(t)}_{\\sigma_B}} \\mathbb{E}\\left[ p^{(t)}_k \\right]} \\\\\n",
    "= \\frac{1}{n!} \\sum_{\\sigma_A \\in \\mathbb{S}_n} \\sum_{k \\in S^{(t)}_{\\sigma_A}} \\mu \\cdot \\frac{1}{n!} \\sum_{\\sigma_B \\in \\mathbb{S}_n} \\frac{1}{\\sum_{k \\in S^{(t)}_{\\sigma_B}} \\mu} \\\\\n",
    "\\frac{1}{n!} \\sum_{\\sigma_A \\in \\mathbb{S}_n} (n-t) \\mu \\cdot \\frac{1}{n!} \\sum_{\\sigma_B \\in \\mathbb{S}_n} \\frac{1}{(n-t) \\mu} = 1.\n",
    "$$\n",
    "\n",
    "So that means, under some somewhat shaky assumptions, we have\n",
    "\n",
    "$$\n",
    "\\frac{\\mathbb{P}_{\\sigma_A \\sim \\text{GS}}(\\sigma_A)}{\\mathbb{P}_{\\sigma_B \\sim \\text{GS}}(\\sigma_B)} \\approx\n",
    "\\frac{\\mathbb{P}\\{\\sigma_A \\text{ wins}\\}}{\\mathbb{P}\\{\\sigma_B \\text{ wins}\\}} , \n",
    "$$\n",
    "\n",
    "so sampling permutations from the GS distribution hopefully gives us samples somewhat consistent with sampling permutations with probability proportional to their winning probabilities -- that is -- the permutation with the highest winning probability should be sampled with the highest probability according to GS."
   ]
  },
  {
   "cell_type": "code",
   "execution_count": null,
   "metadata": {
    "collapsed": true
   },
   "outputs": [],
   "source": [
    "def greedy_sample(X, teams):\n",
    "    \"\"\"\n",
    "        Given winning probability matrix X returns a \"greedy\" sample\n",
    "        permutation of teams - given as a list of integers.\n",
    "    \"\"\"\n",
    "    ## Check dims of X ok\n",
    "    num_weeks = X.shape[0]\n",
    "    num_teams = X.shape[1]\n",
    "    if (num_teams != len(teams)):\n",
    "        raise(ValueError(\"X needs to have %d rows, has %d.\" % (num_teams, X.shape[1])))\n",
    "    # generate samples\n",
    "    visited = []\n",
    "    for t in list(range(min(num_teams, num_weeks))):\n",
    "        allowed = [i for i in list(range(num_teams)) if i not in visited]\n",
    "        probs = X[t, allowed] / np.sum(X[t, allowed])\n",
    "        sample = np.random.choice(allowed, p=probs)\n",
    "        visited.append(sample)\n",
    "    return visited"
   ]
  },
  {
   "cell_type": "code",
   "execution_count": null,
   "metadata": {},
   "outputs": [],
   "source": [
    "greedy_sample(X, teams)"
   ]
  },
  {
   "cell_type": "markdown",
   "metadata": {},
   "source": [
    "### Take many greedy samples and save the best"
   ]
  },
  {
   "cell_type": "code",
   "execution_count": null,
   "metadata": {
    "collapsed": true
   },
   "outputs": [],
   "source": [
    "def greedy_sample_strategy(X, teams, num_iterations):\n",
    "    optimal_sampled_perm = []\n",
    "    optimal_value = -float(\"inf\")\n",
    "    optimal_t = 0\n",
    "    for t in range(num_iterations - 1):\n",
    "        if (t % 1000 == 0):\n",
    "            print(\"Run %d of %d. Current optimal value is %.4f observed at run %d.\" \\\n",
    "                  % (t, num_iterations, optimal_value, optimal_t))\n",
    "        sample = greedy_sample(X, teams)\n",
    "        value = evaluate_perm(sample, X)\n",
    "        if (value > optimal_value):\n",
    "            optimal_value = value\n",
    "            optimal_sampled_perm = sample[:]\n",
    "            optimal_t = t\n",
    "    return optimal_sampled_perm, optimal_value"
   ]
  },
  {
   "cell_type": "code",
   "execution_count": null,
   "metadata": {},
   "outputs": [],
   "source": [
    "num_iterations = 1000000\n",
    "greedy_opt_perm, greedy_opt_val = greedy_sample_strategy(X, teams, num_iterations)\n",
    "greedy_sample_result = {\"opt_perm\": greedy_opt_perm, \\\n",
    "                        \"opt_value\": greedy_opt_val, \\\n",
    "                        \"opt_team_list\": team_order_from_perm_list(greedy_opt_perm, teams)\\\n",
    "                       }"
   ]
  },
  {
   "cell_type": "code",
   "execution_count": null,
   "metadata": {
    "scrolled": true
   },
   "outputs": [],
   "source": [
    "pp.pprint(greedy_sample_result, compact=True)"
   ]
  },
  {
   "cell_type": "markdown",
   "metadata": {},
   "source": [
    "## Simulated Annealing Strategy\n",
    "\n",
    "Common heuristic heuristic strategy for TSP, other combinatorial optimisation algorthms\n",
    "\n",
    "### TODO discuss mixing, burn-in etc\n"
   ]
  },
  {
   "cell_type": "code",
   "execution_count": null,
   "metadata": {
    "collapsed": true
   },
   "outputs": [],
   "source": [
    "def metropolis_sample(X, teams, burn_in, start_perm, beta):\n",
    "    \"\"\"\n",
    "    Returns a Metropolis-sampled permutation after `burn_in` steps, starting from `start_perm`.\n",
    "    Acceptance probability ratio is winning probability ratio, beta is inverse temperature.\n",
    "    \"\"\"\n",
    "    ## Check dims of X, start_perm ok\n",
    "    num_weeks = X.shape[0]\n",
    "    num_teams = X.shape[1]\n",
    "    if (num_teams != len(teams)):\n",
    "        raise(ValueError(\"X needs to have %d rows, has %d.\" % (num_teams, X.shape[1])))\n",
    "    if( not (sorted(start_perm) == list(range(len(start_perm))))):\n",
    "        raise(ValueError(\"start_perm doesn't contain all integers from 0 to %d\" % (len(start_perm) -1 )))\n",
    "    \n",
    "    out_perm = start_perm[:]\n",
    "    out_val = evaluate_perm(out_perm, X)\n",
    "    for t in range(burn_in):\n",
    "        idx1, idx2 = np.random.choice(len(teams), 2, replace=False)\n",
    "        candidate_perm = out_perm[:]\n",
    "        candidate_perm[idx1], candidate_perm[idx2] = candidate_perm[idx2], candidate_perm[idx1]\n",
    "        candidate_val = evaluate_perm(candidate_perm, X)\n",
    "        ratio = np.exp(candidate_val) / np.exp(out_val)  # evaluate_perm() is log of winnning probability\n",
    "        \n",
    "        accept = False\n",
    "        if (ratio >= 1):\n",
    "            accept = True\n",
    "        else:\n",
    "            accept = np.random.rand() <= np.exp(- beta * ratio)\n",
    "\n",
    "        if (accept):\n",
    "            # print(\"accept\", t, candidate_val, out_val, (np.exp(candidate_val) / np.exp(out_val)), out_perm)\n",
    "            out_perm = candidate_perm[:]\n",
    "            out_val = candidate_val\n",
    "            \n",
    "    return out_perm, out_val        "
   ]
  },
  {
   "cell_type": "code",
   "execution_count": null,
   "metadata": {
    "collapsed": true
   },
   "outputs": [],
   "source": [
    "def simulated_anneal_sample(X, teams, burn_in, start_perm, beta_i, beta_f, alpha):\n",
    "    \"\"\"\n",
    "    Return a permutation sample according to the simulated annealing algorithm, \n",
    "    starting at inverse temperature `beta_i` and stopping at `beta_f`. Beta geometrically\n",
    "    increases, by a factor `alpha` at each step, `burn_in` runs at each temperature.\n",
    "    \"\"\"\n",
    "    current_perm = start_perm\n",
    "    beta = beta_i\n",
    "    while (beta <= beta_f):\n",
    "        beta = alpha * beta\n",
    "        out_perm, out_val = metropolis_sample(X, teams, burn_in, current_perm, beta)\n",
    "        current_perm = out_perm[:]\n",
    "    return out_perm, out_val    "
   ]
  },
  {
   "cell_type": "code",
   "execution_count": null,
   "metadata": {
    "collapsed": true
   },
   "outputs": [],
   "source": [
    "def simulated_anneal_sample_strategy(X, teams, burn_in, start_perm, beta_i, beta_f, alpha, num_runs):\n",
    "    \"\"\"\n",
    "    Return the permutation giving the maximum winning probability after `num_samples`\n",
    "    SA samples.\n",
    "    \"\"\"\n",
    "    optimal_perm = start_perm[:]\n",
    "    optimal_val = evaluate_perm(optimal_perm, X)\n",
    "    for t in range(num_runs):\n",
    "        if (t % 5 == 0):\n",
    "            print(\"Run %d of %d. Current optimal value is %.4f.\" \\\n",
    "                  % (t + 1, num_runs, optimal_val))\n",
    "        sample_perm, sample_val = simulated_anneal_sample(X, teams, burn_in, start_perm, beta_i, beta_f, alpha)\n",
    "        if (sample_val > optimal_val):\n",
    "            optimal_val = sample_val\n",
    "            optimal_perm = sample_perm[:]\n",
    "    return optimal_perm, optimal_val    "
   ]
  },
  {
   "cell_type": "code",
   "execution_count": null,
   "metadata": {
    "scrolled": true
   },
   "outputs": [],
   "source": [
    "# Quick test\n",
    "\n",
    "alpha = 1.03\n",
    "beta_i = 0.1\n",
    "beta_f = 50\n",
    "burn_in = 200\n",
    "start_perm = greedy_perm\n",
    "num_runs = 20\n",
    "\n",
    "SA_opt_perm, SA_opt_val = simulated_anneal_sample_strategy(X, teams, burn_in, stddart_perm, beta_i, beta_f, alpha, num_runs)"
   ]
  },
  {
   "cell_type": "markdown",
   "metadata": {},
   "source": [
    "### Tune the hyperparameters\n",
    "\n",
    "Here we're going to use a very naive method: grid search. Let's fix some of the hyperparameters to sensible values to not have to test too many combinations of values. These include the final inverse temperature $\\beta_f= 50$ and the `burn_in=200`. We'll set $\\beta_f = 50$ because $e^{-50}$ is *tiny* so more or less zero acceptance probability for any transition lowering the energy and `burn_in=200` since it is roughly the number of possible transitions from a given state $n(n-1)/2$. We'll use the greedy stategy as a starting state.\n",
    "\n",
    "We *are* going to vary the initial inverse temperature $\\beta_i$ and the multiplier, $\\alpha$.\n",
    "\n",
    "We'll give each of the $(\\beta_i, \\alpha)$ pairs 25 goes to show us what they're made of. The best pair will then be used for many more runs to give us the SA strategy generated permutation. \n",
    "\n"
   ]
  },
  {
   "cell_type": "code",
   "execution_count": null,
   "metadata": {},
   "outputs": [],
   "source": [
    "beta_f = 50\n",
    "burn_in = 200\n",
    "start_perm = greedy_perm\n",
    "num_runs = 25\n",
    "\n",
    "alphas = [1.02, 1.05, 1.1, 1.15, 1.2]\n",
    "beta_is = [0.001, 0.005, 0.01, 0.1, 0.2, 0.3, 0.5]\n",
    "\n",
    "SA_hyperparam_results = pd.DataFrame(columns = ['alpha', 'beta_i', 'SA_opt_val', 'SA_opt_perm'])\n",
    "\n",
    "for alpha, beta_i in itertools.product(alphas, beta_is):\n",
    "    print(\"Testing alpha = %.3f, beta_i = %.4f \" % (alpha, beta_i))\n",
    "    SA_opt_perm, SA_opt_val = \\\n",
    "            simulated_anneal_sample_strategy(X, teams, burn_in, start_perm, beta_i, beta_f, alpha, num_runs)\n",
    "    SA_hyperparam_results = SA_hyperparam_results.append({'alpha': alpha, 'beta_i': beta_i, 'SA_opt_val': SA_opt_val, 'SA_opt_perm': SA_opt_perm},\\\n",
    "                                ignore_index=True)    "
   ]
  },
  {
   "cell_type": "code",
   "execution_count": null,
   "metadata": {},
   "outputs": [],
   "source": [
    "SA_hyperparam_results.iloc[SA_hyperparam_results['SA_opt_val'].idxmax()]"
   ]
  },
  {
   "cell_type": "code",
   "execution_count": null,
   "metadata": {},
   "outputs": [],
   "source": [
    "beta_f = 50\n",
    "burn_in = 200\n",
    "start_perm = greedy_perm\n",
    "num_runs = 200\n",
    "alpha = 1.1\n",
    "beta_i = 0.01\n",
    "\n",
    "SA_opt_perm, SA_opt_val = \\\n",
    "        simulated_anneal_sample_strategy(X, teams, burn_in, start_perm, beta_i, beta_f, alpha, num_runs)"
   ]
  },
  {
   "cell_type": "code",
   "execution_count": null,
   "metadata": {},
   "outputs": [],
   "source": [
    "SA_sample_result = {\"opt_perm\": SA_opt_perm, \\\n",
    "                    \"opt_value\": SA_opt_val, \\\n",
    "                    \"opt_team_list\": team_order_from_perm_list(SA_opt_perm, teams)\\\n",
    "                    }\n",
    "pp.pprint(SA_sample_result, compact=True)"
   ]
  },
  {
   "cell_type": "markdown",
   "metadata": {},
   "source": [
    "### Determine \"nice\" `burn_in`\n",
    "\n",
    "Discuss Lehvenshtein 'edit distance' - relation transposition distance"
   ]
  },
  {
   "cell_type": "code",
   "execution_count": null,
   "metadata": {
    "collapsed": true
   },
   "outputs": [],
   "source": [
    "import editdistance"
   ]
  },
  {
   "cell_type": "code",
   "execution_count": null,
   "metadata": {
    "collapsed": true
   },
   "outputs": [],
   "source": [
    "burn_ins = np.arange(10, 5000, 10)\n",
    "num_trials = 50\n",
    "distance_arr = np.zeros(burn_ins.shape)\n",
    "std_arr = np.zeros(burn_ins.shape)\n",
    "for idx, _ in enumerate(burn_ins):\n",
    "    distances = np.zeros(num_trials)\n",
    "    for trial in range(num_trials):\n",
    "        sampled_perm, _ = metropolis_sample(X, teams, burn_in, greedy_perm)\n",
    "        distances[trial] = editdistance.eval(sampled_perm, greedy_perm)\n",
    "    distance_arr[idx] = np.mean(distances)\n",
    "    std_arr[idx] = np.std(distances) / np.sqrt(num_trials)"
   ]
  },
  {
   "cell_type": "code",
   "execution_count": null,
   "metadata": {},
   "outputs": [],
   "source": [
    "plt.figure()\n",
    "plt.errorbar(burn_ins, distance_arr, yerr=std_arr, fmt='o')\n",
    "plt.xlabel(\"burn-in steps\")\n",
    "plt.ylabel(\"edit distance from initial step\")\n",
    "plt.title(\"Determine number of burn-in steps required\");"
   ]
  },
  {
   "cell_type": "markdown",
   "metadata": {},
   "source": [
    "## Convex Programming Strategy\n",
    "\n",
    "Let $\\tilde{X}$ be the matrix with entries given by\n",
    "\n",
    "$$[\\tilde{X}]_{i,j} = \\ln X_{i,j} = \\ln p^{(i)}_j$$\n",
    "\n",
    "Now consider the optimisation problem\n",
    "\n",
    "$$ \\arg\\max_{\\sigma \\in \\mathbb{S}_n} \\operatorname{Tr}(P_{\\sigma} \\tilde{X} )$$\n",
    "\n",
    "The solution to this problem is \n",
    "\n",
    "### TODO: convex relaxation"
   ]
  },
  {
   "cell_type": "markdown",
   "metadata": {},
   "source": [
    "### Permutation matrices"
   ]
  },
  {
   "cell_type": "code",
   "execution_count": null,
   "metadata": {
    "collapsed": true
   },
   "outputs": [],
   "source": [
    "from birkhoff import to_permutation_matrix as to_permutation_matrix\n",
    "def perm_matrix_from_list(perm_list):\n",
    "    \"\"\"\n",
    "        Takes an ordered list of integers and returns a permutation matrix.\n",
    "    \"\"\"\n",
    "    ## check list 'full'\n",
    "    n_range = list(range(len(perm_list)))\n",
    "    if( not (sorted(perm_list) == n_range)):\n",
    "        raise(ValueError(\"perm_list doesn't contain all integers from 0 to %d\" % (len(perm_list) -1 )))\n",
    "    perm_dict = dict(zip(n_range, perm_list))    \n",
    "    return to_permutation_matrix(perm_dict) "
   ]
  },
  {
   "cell_type": "code",
   "execution_count": 112,
   "metadata": {},
   "outputs": [
    {
     "name": "stdout",
     "output_type": "stream",
     "text": [
      "status: optimal\n",
      "optimal value -19.456730722494175\n"
     ]
    }
   ],
   "source": [
    "X_tilde = np.log(X)[0:len(teams), 0:len(teams)]\n",
    "\n",
    "P = cvx.Variable(*X_tilde.shape)\n",
    "W = cvx.Parameter(*X_tilde.shape, sign=\"negative\")\n",
    "W.value = X_tilde\n",
    "obj = cvx.Maximize(cvx.trace(W*P))\n",
    "\n",
    "constraints = [0 <= P, P <= 1]\n",
    "\n",
    "col_sums = cvx.sum_entries(P, axis=0) \n",
    "row_sums = cvx.sum_entries(P, axis=1)\n",
    "\n",
    "for col_sum in col_sums:\n",
    "    constraints += [col_sum == 1]\n",
    "\n",
    "for row_sum in row_sums:\n",
    "    constraints += [row_sum == 1]\n",
    "\n",
    "prob = cvx.Problem(obj, constraints)\n",
    "prob.solve()\n",
    "\n",
    "print(\"status:\", prob.status)\n",
    "print(\"optimal value\", prob.value)"
   ]
  },
  {
   "cell_type": "code",
   "execution_count": 127,
   "metadata": {},
   "outputs": [
    {
     "data": {
      "image/png": "[encoded data removed]",
      "text/plain": [
       "<matplotlib.figure.Figure at 0x18138c0b00>"
      ]
     },
     "metadata": {
      "image/png": {
       "height": 267,
       "width": 308
      }
     },
     "output_type": "display_data"
    }
   ],
   "source": [
    "#pp.pprint(P.value, compact=True)\n",
    "plt.figure(num=1, figsize=(6, 4))\n",
    "plt.matshow(P.value, cmap=\"binary\", fignum=1)\n",
    "plt.colorbar();\n",
    "plt.title(\"optimal $P$\");"
   ]
  },
  {
   "cell_type": "code",
   "execution_count": 114,
   "metadata": {},
   "outputs": [
    {
     "name": "stdout",
     "output_type": "stream",
     "text": [
      "{'opt_perm': [17, 6, 18, 4, 19, 3, 12, 13, 10, 11, 2, 1, 14, 9, 16, 15, 8, 7, 5,\n",
      "              0],\n",
      " 'opt_team_list': ['Sunderland', 'Southampton', 'West Ham United',\n",
      "                   'Manchester City', 'Liverpool', 'Hull City', 'Stoke City',\n",
      "                   'Swansea City', 'Manchester United', 'Leicester City',\n",
      "                   'Everton', 'Crystal Palace', 'Tottenham Hotspur', 'Chelsea',\n",
      "                   'West Bromwich Albion', 'Watford', 'Arsenal',\n",
      "                   'AFC Bournemouth', 'Middlesbrough', 'Burnley'],\n",
      " 'opt_value': -19.45673066562512}\n"
     ]
    }
   ],
   "source": [
    "rounded = np.rint(np.asarray(P.value))\n",
    "\n",
    "# check if permutation\n",
    "assert(np.all(np.sum(rounded, 0)) == True)\n",
    "assert(np.all(np.sum(rounded, 1)) == True)\n",
    "\n",
    "# convert permutation matrix to perm_list\n",
    "cvx_opt_perm = list(np.where(rounded.T == 1)[1])\n",
    "\n",
    "cvx_result = {\"opt_perm\": cvx_opt_perm, \\\n",
    "              \"opt_value\": evaluate_perm(cvx_opt_perm, X), \\\n",
    "              \"opt_team_list\": team_order_from_perm_list(cvx_opt_perm, teams) \\\n",
    "              }\n",
    "\n",
    "pp.pprint(cvx_result, compact=True)"
   ]
  },
  {
   "cell_type": "code",
   "execution_count": 88,
   "metadata": {},
   "outputs": [
    {
     "ename": "IndexError",
     "evalue": "index 19 is out of bounds for axis 0 with size 19",
     "output_type": "error",
     "traceback": [
      "\u001b[0;31m---------------------------------------------------------------------------\u001b[0m",
      "\u001b[0;31mIndexError\u001b[0m                                Traceback (most recent call last)",
      "\u001b[0;32m<ipython-input-88-3c37585e861b>\u001b[0m in \u001b[0;36m<module>\u001b[0;34m()\u001b[0m\n\u001b[0;32m----> 1\u001b[0;31m \u001b[0mresult\u001b[0m \u001b[0;34m=\u001b[0m \u001b[0mdecomp\u001b[0m\u001b[0;34m(\u001b[0m\u001b[0mnp\u001b[0m\u001b[0;34m.\u001b[0m\u001b[0masarray\u001b[0m\u001b[0;34m(\u001b[0m\u001b[0mP\u001b[0m\u001b[0;34m.\u001b[0m\u001b[0mvalue\u001b[0m\u001b[0;34m)\u001b[0m\u001b[0;34m)\u001b[0m\u001b[0;34m\u001b[0m\u001b[0m\n\u001b[0m\u001b[1;32m      2\u001b[0m \u001b[0;32mfor\u001b[0m \u001b[0mcoefficient\u001b[0m\u001b[0;34m,\u001b[0m \u001b[0mpermutation_matrix\u001b[0m \u001b[0;32min\u001b[0m \u001b[0mresult\u001b[0m\u001b[0;34m:\u001b[0m\u001b[0;34m\u001b[0m\u001b[0m\n\u001b[1;32m      3\u001b[0m     \u001b[0mprint\u001b[0m\u001b[0;34m(\u001b[0m\u001b[0;34m'coefficient:'\u001b[0m\u001b[0;34m,\u001b[0m \u001b[0mcoefficient\u001b[0m\u001b[0;34m)\u001b[0m\u001b[0;34m\u001b[0m\u001b[0m\n\u001b[1;32m      4\u001b[0m     \u001b[0mprint\u001b[0m\u001b[0;34m(\u001b[0m\u001b[0;34m'permutation matrix:'\u001b[0m\u001b[0;34m,\u001b[0m \u001b[0mpermutation_matrix\u001b[0m\u001b[0;34m)\u001b[0m\u001b[0;34m\u001b[0m\u001b[0m\n",
      "\u001b[0;32m//anaconda/envs/py35/lib/python3.5/site-packages/birkhoff.py\u001b[0m in \u001b[0;36mbirkhoff_von_neumann_decomposition\u001b[0;34m(D)\u001b[0m\n\u001b[1;32m    221\u001b[0m         \u001b[0mM\u001b[0m \u001b[0;34m=\u001b[0m \u001b[0;34m{\u001b[0m\u001b[0mu\u001b[0m\u001b[0;34m:\u001b[0m \u001b[0mv\u001b[0m \u001b[0;34m%\u001b[0m \u001b[0mn\u001b[0m \u001b[0;32mfor\u001b[0m \u001b[0mu\u001b[0m\u001b[0;34m,\u001b[0m \u001b[0mv\u001b[0m \u001b[0;32min\u001b[0m \u001b[0mM\u001b[0m\u001b[0;34m.\u001b[0m\u001b[0mitems\u001b[0m\u001b[0;34m(\u001b[0m\u001b[0;34m)\u001b[0m \u001b[0;32mif\u001b[0m \u001b[0mu\u001b[0m \u001b[0;34m<\u001b[0m \u001b[0mn\u001b[0m\u001b[0;34m}\u001b[0m\u001b[0;34m\u001b[0m\u001b[0m\n\u001b[1;32m    222\u001b[0m         \u001b[0;31m# Convert that perfect matching to a permutation matrix.\u001b[0m\u001b[0;34m\u001b[0m\u001b[0;34m\u001b[0m\u001b[0m\n\u001b[0;32m--> 223\u001b[0;31m         \u001b[0mP\u001b[0m \u001b[0;34m=\u001b[0m \u001b[0mto_permutation_matrix\u001b[0m\u001b[0;34m(\u001b[0m\u001b[0mM\u001b[0m\u001b[0;34m)\u001b[0m\u001b[0;34m\u001b[0m\u001b[0m\n\u001b[0m\u001b[1;32m    224\u001b[0m         \u001b[0;31m# Get the smallest entry of S corresponding to the 1 entries in the\u001b[0m\u001b[0;34m\u001b[0m\u001b[0;34m\u001b[0m\u001b[0m\n\u001b[1;32m    225\u001b[0m         \u001b[0;31m# permutation matrix.\u001b[0m\u001b[0;34m\u001b[0m\u001b[0;34m\u001b[0m\u001b[0m\n",
      "\u001b[0;32m//anaconda/envs/py35/lib/python3.5/site-packages/birkhoff.py\u001b[0m in \u001b[0;36mto_permutation_matrix\u001b[0;34m(matches)\u001b[0m\n\u001b[1;32m     58\u001b[0m     \u001b[0;31m#         P[u, v] = 1\u001b[0m\u001b[0;34m\u001b[0m\u001b[0;34m\u001b[0m\u001b[0m\n\u001b[1;32m     59\u001b[0m     \u001b[0;31m#\u001b[0m\u001b[0;34m\u001b[0m\u001b[0;34m\u001b[0m\u001b[0m\n\u001b[0;32m---> 60\u001b[0;31m     \u001b[0mP\u001b[0m\u001b[0;34m[\u001b[0m\u001b[0mlist\u001b[0m\u001b[0;34m(\u001b[0m\u001b[0mzip\u001b[0m\u001b[0;34m(\u001b[0m\u001b[0;34m*\u001b[0m\u001b[0;34m(\u001b[0m\u001b[0mmatches\u001b[0m\u001b[0;34m.\u001b[0m\u001b[0mitems\u001b[0m\u001b[0;34m(\u001b[0m\u001b[0;34m)\u001b[0m\u001b[0;34m)\u001b[0m\u001b[0;34m)\u001b[0m\u001b[0;34m)\u001b[0m\u001b[0;34m]\u001b[0m \u001b[0;34m=\u001b[0m \u001b[0;36m1\u001b[0m\u001b[0;34m\u001b[0m\u001b[0m\n\u001b[0m\u001b[1;32m     61\u001b[0m     \u001b[0;32mreturn\u001b[0m \u001b[0mP\u001b[0m\u001b[0;34m\u001b[0m\u001b[0m\n\u001b[1;32m     62\u001b[0m \u001b[0;34m\u001b[0m\u001b[0m\n",
      "\u001b[0;31mIndexError\u001b[0m: index 19 is out of bounds for axis 0 with size 19"
     ]
    }
   ],
   "source": [
    "result = decomp(np.asarray(P.value))\n",
    "for coefficient, permutation_matrix in result:\n",
    "    print('coefficient:', coefficient)\n",
    "    print('permutation matrix:', permutation_matrix)"
   ]
  },
  {
   "cell_type": "code",
   "execution_count": 92,
   "metadata": {},
   "outputs": [
    {
     "data": {
      "text/plain": [
       "(0.999, 0.001)"
      ]
     },
     "execution_count": 92,
     "metadata": {},
     "output_type": "execute_result"
    }
   ],
   "source": [
    "from birkhoff import birkhoff_von_neumann_decomposition as decomp\n",
    "D = np.array([[0.999, 0.001], [0.001, 0.999]])\n",
    "zipped_pairs = decomp(D)\n",
    "coefficients, permutations = zip(*zipped_pairs)\n",
    "coefficients"
   ]
  },
  {
   "cell_type": "code",
   "execution_count": 101,
   "metadata": {},
   "outputs": [
    {
     "ename": "IndexError",
     "evalue": "index 19 is out of bounds for axis 0 with size 19",
     "output_type": "error",
     "traceback": [
      "\u001b[0;31m---------------------------------------------------------------------------\u001b[0m",
      "\u001b[0;31mIndexError\u001b[0m                                Traceback (most recent call last)",
      "\u001b[0;32m<ipython-input-101-539b15ab5fdb>\u001b[0m in \u001b[0;36m<module>\u001b[0;34m()\u001b[0m\n\u001b[0;32m----> 1\u001b[0;31m \u001b[0mdecomp\u001b[0m\u001b[0;34m(\u001b[0m\u001b[0mnp\u001b[0m\u001b[0;34m.\u001b[0m\u001b[0masarray\u001b[0m\u001b[0;34m(\u001b[0m\u001b[0mP\u001b[0m\u001b[0;34m.\u001b[0m\u001b[0mvalue\u001b[0m\u001b[0;34m)\u001b[0m\u001b[0;34m)\u001b[0m\u001b[0;34m\u001b[0m\u001b[0m\n\u001b[0m",
      "\u001b[0;32m//anaconda/envs/py35/lib/python3.5/site-packages/birkhoff.py\u001b[0m in \u001b[0;36mbirkhoff_von_neumann_decomposition\u001b[0;34m(D)\u001b[0m\n\u001b[1;32m    221\u001b[0m         \u001b[0mM\u001b[0m \u001b[0;34m=\u001b[0m \u001b[0;34m{\u001b[0m\u001b[0mu\u001b[0m\u001b[0;34m:\u001b[0m \u001b[0mv\u001b[0m \u001b[0;34m%\u001b[0m \u001b[0mn\u001b[0m \u001b[0;32mfor\u001b[0m \u001b[0mu\u001b[0m\u001b[0;34m,\u001b[0m \u001b[0mv\u001b[0m \u001b[0;32min\u001b[0m \u001b[0mM\u001b[0m\u001b[0;34m.\u001b[0m\u001b[0mitems\u001b[0m\u001b[0;34m(\u001b[0m\u001b[0;34m)\u001b[0m \u001b[0;32mif\u001b[0m \u001b[0mu\u001b[0m \u001b[0;34m<\u001b[0m \u001b[0mn\u001b[0m\u001b[0;34m}\u001b[0m\u001b[0;34m\u001b[0m\u001b[0m\n\u001b[1;32m    222\u001b[0m         \u001b[0;31m# Convert that perfect matching to a permutation matrix.\u001b[0m\u001b[0;34m\u001b[0m\u001b[0;34m\u001b[0m\u001b[0m\n\u001b[0;32m--> 223\u001b[0;31m         \u001b[0mP\u001b[0m \u001b[0;34m=\u001b[0m \u001b[0mto_permutation_matrix\u001b[0m\u001b[0;34m(\u001b[0m\u001b[0mM\u001b[0m\u001b[0;34m)\u001b[0m\u001b[0;34m\u001b[0m\u001b[0m\n\u001b[0m\u001b[1;32m    224\u001b[0m         \u001b[0;31m# Get the smallest entry of S corresponding to the 1 entries in the\u001b[0m\u001b[0;34m\u001b[0m\u001b[0;34m\u001b[0m\u001b[0m\n\u001b[1;32m    225\u001b[0m         \u001b[0;31m# permutation matrix.\u001b[0m\u001b[0;34m\u001b[0m\u001b[0;34m\u001b[0m\u001b[0m\n",
      "\u001b[0;32m//anaconda/envs/py35/lib/python3.5/site-packages/birkhoff.py\u001b[0m in \u001b[0;36mto_permutation_matrix\u001b[0;34m(matches)\u001b[0m\n\u001b[1;32m     58\u001b[0m     \u001b[0;31m#         P[u, v] = 1\u001b[0m\u001b[0;34m\u001b[0m\u001b[0;34m\u001b[0m\u001b[0m\n\u001b[1;32m     59\u001b[0m     \u001b[0;31m#\u001b[0m\u001b[0;34m\u001b[0m\u001b[0;34m\u001b[0m\u001b[0m\n\u001b[0;32m---> 60\u001b[0;31m     \u001b[0mP\u001b[0m\u001b[0;34m[\u001b[0m\u001b[0mlist\u001b[0m\u001b[0;34m(\u001b[0m\u001b[0mzip\u001b[0m\u001b[0;34m(\u001b[0m\u001b[0;34m*\u001b[0m\u001b[0;34m(\u001b[0m\u001b[0mmatches\u001b[0m\u001b[0;34m.\u001b[0m\u001b[0mitems\u001b[0m\u001b[0;34m(\u001b[0m\u001b[0;34m)\u001b[0m\u001b[0;34m)\u001b[0m\u001b[0;34m)\u001b[0m\u001b[0;34m)\u001b[0m\u001b[0;34m]\u001b[0m \u001b[0;34m=\u001b[0m \u001b[0;36m1\u001b[0m\u001b[0;34m\u001b[0m\u001b[0m\n\u001b[0m\u001b[1;32m     61\u001b[0m     \u001b[0;32mreturn\u001b[0m \u001b[0mP\u001b[0m\u001b[0;34m\u001b[0m\u001b[0m\n\u001b[1;32m     62\u001b[0m \u001b[0;34m\u001b[0m\u001b[0m\n",
      "\u001b[0;31mIndexError\u001b[0m: index 19 is out of bounds for axis 0 with size 19"
     ]
    }
   ],
   "source": [
    "decomp(np.asarray(P.value))"
   ]
  },
  {
   "cell_type": "code",
   "execution_count": 104,
   "metadata": {},
   "outputs": [],
   "source": [
    "np.save(\"dub_stoch.npy\", np.asarray(P.value))\n"
   ]
  },
  {
   "cell_type": "code",
   "execution_count": null,
   "metadata": {
    "collapsed": true
   },
   "outputs": [],
   "source": []
  }
 ],
 "metadata": {
  "kernelspec": {
   "display_name": "Python 3",
   "language": "python",
   "name": "python3"
  },
  "language_info": {
   "codemirror_mode": {
    "name": "ipython",
    "version": 3
   },
   "file_extension": ".py",
   "mimetype": "text/x-python",
   "name": "python",
   "nbconvert_exporter": "python",
   "pygments_lexer": "ipython3",
   "version": "3.5.4"
  }
 },
 "nbformat": 4,
 "nbformat_minor": 2
}
